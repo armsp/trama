{
 "cells": [
  {
   "cell_type": "code",
   "execution_count": 1,
   "id": "5ed87c32-153e-48be-b544-aac1be96fefd",
   "metadata": {},
   "outputs": [],
   "source": [
    "# make df from stories"
   ]
  },
  {
   "cell_type": "code",
   "execution_count": 22,
   "id": "69cb708f-2f16-40d8-8fc0-22ce2eccb267",
   "metadata": {},
   "outputs": [],
   "source": [
    "from pathlib import Path\n",
    "stories_path = \"../dataset/stories\"\n",
    "pathlist = Path(stories_path).rglob('*.txt')\n",
    "# for path in pathlist:\n",
    "#      # because path is object not string\n",
    "#      path_in_str = str(path)\n",
    "#      print(path_in_str)"
   ]
  },
  {
   "cell_type": "code",
   "execution_count": 23,
   "id": "1faaa3cc-e07f-4227-9eaf-45a66a38c8b1",
   "metadata": {},
   "outputs": [],
   "source": [
    "# story file to object\n",
    "def storyfile_processor(story_file_path):\n",
    "    with open(story_file_path, encoding=\"utf8\") as f:\n",
    "        content = f.read()\n",
    "        title = content.split(\"===\")[0].strip()\n",
    "        author = content.split(\"===\")[1].strip()\n",
    "        story_text = content.split(\"===\")[2].strip()\n",
    "        print(f\"Title: {title}, Author: {author}\")\n",
    "    return (title, author, story_text)"
   ]
  },
  {
   "cell_type": "code",
   "execution_count": 24,
   "id": "4dd86c71-20ed-49f0-bbd8-9c2ac7e882c5",
   "metadata": {},
   "outputs": [],
   "source": [
    "def story_processor(story):\n",
    "    # remove U+2019 character, replace it with apostrophe\n",
    "    # remove additional spaces\n",
    "    # remove double quotes that are like repeated U+2019\n",
    "    pass"
   ]
  },
  {
   "cell_type": "code",
   "execution_count": 25,
   "id": "1be24dca-46a2-42c5-b708-eb9389b17e81",
   "metadata": {},
   "outputs": [
    {
     "name": "stdout",
     "output_type": "stream",
     "text": [
      "Title: The Bear Came Over the Mountain, Author: Alice Munro\n",
      "Title: The Boss, Author: Robert Coover\n",
      "Title: The Hairless Are Careless, Author: Colin Barrett\n",
      "Title: Smithereens, Author: Aleksandar Hemon\n",
      "Title: Where Are You?, Author: Joyce Carol Oates\n",
      "Title: Art of Story, Author: John Edgar Wideman\n",
      "Title: Sun Dogs, Author: Dorthe Nors\n",
      "Title: Let’s Say, Author: Linor Goralik\n",
      "Title: Citizen Punch, Author: Robert Coover\n",
      "Title: An Evening with Joseph Conrad, Author: Anne Carson\n",
      "Title: The South Asian Speakers Series Presents the Archeologist and Adventurer Indiana Jones, Author: Tania James\n",
      "Title: Town of Cats, Author: Haruki Murakami\n",
      "Title: Courage, Author: Daniel Smith\n",
      "Title: Have You Ever Met One?, Author: Rivka Galchen\n",
      "Title: Good Boys, Author: Honor Levy\n",
      "Title: The Kingdom That Failed, Author: Haruki Murakami\n",
      "Title: The Mirror, Author: David Hoon Kim\n",
      "Title: Listening for the Click, Author: Johanna Ekström\n",
      "Title: Around the Corner You Can’t See Around, Author: Lore Segal\n",
      "Title: A Triangle, Author: Giada Scodellaro\n",
      "Title: Live a Little, Author: Diane Williams\n",
      "Title: Soft Sculpture, Author: Lore Segal\n",
      "Title: Symbols and Signs, Author: Vladimir Nabokov\n",
      "Title: Replacement Grandparent, Author: Kate Zambreno\n",
      "Title: Snowstorm, Author: Bruna Dantas Lobato\n",
      "Title: The Façade Renovation That’s Going Well, Author: Weike Wang\n",
      "Title: Certain European Movies, Author: Emma Cline\n",
      "Title: Battle, Author: Weike Wang\n",
      "Title: Woman to Woman, Author: Honorée Fanonne Jeffers\n",
      "Title: Anatoly, Author: Oleh Sentsov\n",
      "Title: Wolves, Author: Sterling HolyWhiteMountain\n",
      "Title: Blue Island, Author: Stuart Dybek\n",
      "Title: The Preparatory School, Author: Hebe Uhart\n",
      "Title: The Lottery, Author: Shirley Jackson\n",
      "Title: Sticks, Author: George Saunders\n",
      "Title: A Good Man is Hard to Find, Author: Flannery O'Connor\n",
      "Title: Lamb to the Slaughter, Author: Roald Dahl\n",
      "Title: My Cheesecake-Shaped Poverty, Author: Haruki Murakami\n",
      "Title: The Hostage, Author: Amelia Gray\n"
     ]
    }
   ],
   "source": [
    "for path in pathlist:\n",
    "     # because path is object not string\n",
    "     path_in_str = str(path)\n",
    "     storyfile_processor(path_in_str)"
   ]
  },
  {
   "cell_type": "code",
   "execution_count": 26,
   "id": "c23592d7-9dc6-4f4d-8d80-9251bb2a531c",
   "metadata": {},
   "outputs": [],
   "source": [
    "# make df"
   ]
  },
  {
   "cell_type": "code",
   "execution_count": null,
   "id": "1ce0c0d0-8084-4a06-997c-29c33b18397d",
   "metadata": {},
   "outputs": [],
   "source": []
  }
 ],
 "metadata": {
  "kernelspec": {
   "display_name": "Python 3 (ipykernel)",
   "language": "python",
   "name": "python3"
  },
  "language_info": {
   "codemirror_mode": {
    "name": "ipython",
    "version": 3
   },
   "file_extension": ".py",
   "mimetype": "text/x-python",
   "name": "python",
   "nbconvert_exporter": "python",
   "pygments_lexer": "ipython3",
   "version": "3.9.13"
  }
 },
 "nbformat": 4,
 "nbformat_minor": 5
}
