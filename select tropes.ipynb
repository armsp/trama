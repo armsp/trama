{
 "cells": [
  {
   "cell_type": "code",
   "execution_count": 2,
   "id": "73aacf95-47e1-4208-a55b-310b27449bfa",
   "metadata": {},
   "outputs": [],
   "source": [
    "import pandas as pd\n",
    "import numpy as np\n",
    "from tqdm.auto import tqdm\n",
    "tqdm.pandas()"
   ]
  },
  {
   "cell_type": "code",
   "execution_count": 5,
   "id": "4e3a8e0b-95f2-47a3-b083-66407657647f",
   "metadata": {},
   "outputs": [],
   "source": [
    "dataset_path = \"../dataset/TVTropesData/tropes.csv\""
   ]
  },
  {
   "cell_type": "code",
   "execution_count": 30,
   "id": "981b4317-c1f0-4a41-8ff2-11c50233cf38",
   "metadata": {},
   "outputs": [],
   "source": [
    "tropes_raw = pd.read_csv(dataset_path, index_col=0, dtype={\"TropeID\": str, \"Trope\": str, \"Description\": str})"
   ]
  },
  {
   "cell_type": "code",
   "execution_count": 31,
   "id": "3ee21e87-2aa3-458e-ad77-d47ca8e10b01",
   "metadata": {},
   "outputs": [
    {
     "data": {
      "text/html": [
       "<div>\n",
       "<style scoped>\n",
       "    .dataframe tbody tr th:only-of-type {\n",
       "        vertical-align: middle;\n",
       "    }\n",
       "\n",
       "    .dataframe tbody tr th {\n",
       "        vertical-align: top;\n",
       "    }\n",
       "\n",
       "    .dataframe thead th {\n",
       "        text-align: right;\n",
       "    }\n",
       "</style>\n",
       "<table border=\"1\" class=\"dataframe\">\n",
       "  <thead>\n",
       "    <tr style=\"text-align: right;\">\n",
       "      <th></th>\n",
       "      <th>TropeID</th>\n",
       "      <th>Trope</th>\n",
       "      <th>Description</th>\n",
       "    </tr>\n",
       "  </thead>\n",
       "  <tbody>\n",
       "    <tr>\n",
       "      <th>0</th>\n",
       "      <td>t00001</td>\n",
       "      <td>AbandonedArea</td>\n",
       "      <td>\\nAbandoned places make good settings for fict...</td>\n",
       "    </tr>\n",
       "    <tr>\n",
       "      <th>1</th>\n",
       "      <td>t00002</td>\n",
       "      <td>AbandonedCatchphrase</td>\n",
       "      <td>Catchphrases are a great and simple way to hel...</td>\n",
       "    </tr>\n",
       "    <tr>\n",
       "      <th>2</th>\n",
       "      <td>t00003</td>\n",
       "      <td>AbandonedHospital</td>\n",
       "      <td>The creepy abandoned hospital/mental instituti...</td>\n",
       "    </tr>\n",
       "    <tr>\n",
       "      <th>3</th>\n",
       "      <td>t00004</td>\n",
       "      <td>AbandonedHospitalAwakening</td>\n",
       "      <td>An Abandoned Hospital Awakening is, as the nam...</td>\n",
       "    </tr>\n",
       "    <tr>\n",
       "      <th>4</th>\n",
       "      <td>t00005</td>\n",
       "      <td>AbandonedInfoPage</td>\n",
       "      <td>When a work is getting more and more complicat...</td>\n",
       "    </tr>\n",
       "    <tr>\n",
       "      <th>...</th>\n",
       "      <td>...</td>\n",
       "      <td>...</td>\n",
       "      <td>...</td>\n",
       "    </tr>\n",
       "    <tr>\n",
       "      <th>30979</th>\n",
       "      <td>t30980</td>\n",
       "      <td>FlowersInHerHair</td>\n",
       "      <td>\\nFlowers have long been a symbol of femininit...</td>\n",
       "    </tr>\n",
       "    <tr>\n",
       "      <th>30980</th>\n",
       "      <td>t30981</td>\n",
       "      <td>KicktheSonOfABitch</td>\n",
       "      <td>\\nThere's nothing quite so evil as when a char...</td>\n",
       "    </tr>\n",
       "    <tr>\n",
       "      <th>30981</th>\n",
       "      <td>t30982</td>\n",
       "      <td>ParentProducedProject</td>\n",
       "      <td>When a child needs a school project done, some...</td>\n",
       "    </tr>\n",
       "    <tr>\n",
       "      <th>30982</th>\n",
       "      <td>t30983</td>\n",
       "      <td>CutAwayGag</td>\n",
       "      <td>\\nA Cutaway Gag is a joke generally found in s...</td>\n",
       "    </tr>\n",
       "    <tr>\n",
       "      <th>30983</th>\n",
       "      <td>t30984</td>\n",
       "      <td>SqueakingCarpet</td>\n",
       "      <td>\\nRodents are widely reviled, but not very thr...</td>\n",
       "    </tr>\n",
       "  </tbody>\n",
       "</table>\n",
       "<p>30984 rows × 3 columns</p>\n",
       "</div>"
      ],
      "text/plain": [
       "      TropeID                       Trope  \\\n",
       "0      t00001               AbandonedArea   \n",
       "1      t00002        AbandonedCatchphrase   \n",
       "2      t00003           AbandonedHospital   \n",
       "3      t00004  AbandonedHospitalAwakening   \n",
       "4      t00005           AbandonedInfoPage   \n",
       "...       ...                         ...   \n",
       "30979  t30980            FlowersInHerHair   \n",
       "30980  t30981          KicktheSonOfABitch   \n",
       "30981  t30982       ParentProducedProject   \n",
       "30982  t30983                  CutAwayGag   \n",
       "30983  t30984             SqueakingCarpet   \n",
       "\n",
       "                                             Description  \n",
       "0      \\nAbandoned places make good settings for fict...  \n",
       "1      Catchphrases are a great and simple way to hel...  \n",
       "2      The creepy abandoned hospital/mental instituti...  \n",
       "3      An Abandoned Hospital Awakening is, as the nam...  \n",
       "4      When a work is getting more and more complicat...  \n",
       "...                                                  ...  \n",
       "30979  \\nFlowers have long been a symbol of femininit...  \n",
       "30980  \\nThere's nothing quite so evil as when a char...  \n",
       "30981  When a child needs a school project done, some...  \n",
       "30982  \\nA Cutaway Gag is a joke generally found in s...  \n",
       "30983  \\nRodents are widely reviled, but not very thr...  \n",
       "\n",
       "[30984 rows x 3 columns]"
      ]
     },
     "execution_count": 31,
     "metadata": {},
     "output_type": "execute_result"
    }
   ],
   "source": [
    "tropes_raw"
   ]
  },
  {
   "cell_type": "code",
   "execution_count": 32,
   "id": "012908a0-c9e9-47ab-9fba-3246bfc3ec87",
   "metadata": {},
   "outputs": [
    {
     "data": {
      "text/plain": [
       "30984"
      ]
     },
     "execution_count": 32,
     "metadata": {},
     "output_type": "execute_result"
    }
   ],
   "source": [
    "tropes_raw.Description.isnull().count()"
   ]
  },
  {
   "cell_type": "code",
   "execution_count": 33,
   "id": "37122160-4350-4460-9b2f-9963a161d406",
   "metadata": {},
   "outputs": [
    {
     "data": {
      "text/plain": [
       "24"
      ]
     },
     "execution_count": 33,
     "metadata": {},
     "output_type": "execute_result"
    }
   ],
   "source": [
    "tropes_raw.Description.isnull().sum()"
   ]
  },
  {
   "cell_type": "code",
   "execution_count": 38,
   "id": "9151d2aa-e77e-43b6-a440-e5c43456aa13",
   "metadata": {},
   "outputs": [],
   "source": [
    "tropes_raw[\"Description\"] = tropes_raw[\"Description\"].str.strip()"
   ]
  },
  {
   "cell_type": "code",
   "execution_count": 39,
   "id": "3bda2fb7-8176-4e79-965f-241ad8fad1e2",
   "metadata": {},
   "outputs": [
    {
     "data": {
      "text/plain": [
       "count                                                 30960\n",
       "unique                                                28130\n",
       "top       Lampshade Hanging (or, more informally, \"Lamps...\n",
       "freq                                                     10\n",
       "Name: Description, dtype: object"
      ]
     },
     "execution_count": 39,
     "metadata": {},
     "output_type": "execute_result"
    }
   ],
   "source": [
    "tropes_raw.Description.describe()"
   ]
  },
  {
   "cell_type": "code",
   "execution_count": 41,
   "id": "7cbf5b66-820e-4f92-9d79-1bb2d85f00c6",
   "metadata": {},
   "outputs": [
    {
     "data": {
      "text/plain": [
       "count             30984\n",
       "unique            30984\n",
       "top       AbandonedArea\n",
       "freq                  1\n",
       "Name: Trope, dtype: object"
      ]
     },
     "execution_count": 41,
     "metadata": {},
     "output_type": "execute_result"
    }
   ],
   "source": [
    "tropes_raw.Trope.describe()"
   ]
  },
  {
   "cell_type": "code",
   "execution_count": 40,
   "id": "2a729f6b-7c7b-47ab-befe-bd7580cae4b4",
   "metadata": {},
   "outputs": [
    {
     "data": {
      "text/plain": [
       "count      30984\n",
       "unique     30984\n",
       "top       t00001\n",
       "freq           1\n",
       "Name: TropeID, dtype: object"
      ]
     },
     "execution_count": 40,
     "metadata": {},
     "output_type": "execute_result"
    }
   ],
   "source": [
    "tropes_raw.TropeID.describe()"
   ]
  },
  {
   "cell_type": "code",
   "execution_count": 43,
   "id": "08ccfddd-0782-4d5c-9b50-6bdb710d50c6",
   "metadata": {},
   "outputs": [
    {
     "data": {
      "text/html": [
       "<div>\n",
       "<style scoped>\n",
       "    .dataframe tbody tr th:only-of-type {\n",
       "        vertical-align: middle;\n",
       "    }\n",
       "\n",
       "    .dataframe tbody tr th {\n",
       "        vertical-align: top;\n",
       "    }\n",
       "\n",
       "    .dataframe thead th {\n",
       "        text-align: right;\n",
       "    }\n",
       "</style>\n",
       "<table border=\"1\" class=\"dataframe\">\n",
       "  <thead>\n",
       "    <tr style=\"text-align: right;\">\n",
       "      <th></th>\n",
       "      <th>TropeID</th>\n",
       "      <th>Trope</th>\n",
       "      <th>Description</th>\n",
       "    </tr>\n",
       "  </thead>\n",
       "  <tbody>\n",
       "    <tr>\n",
       "      <th>27</th>\n",
       "      <td>t00028</td>\n",
       "      <td>ABNegative</td>\n",
       "      <td>Although most of the real world gets by quite ...</td>\n",
       "    </tr>\n",
       "    <tr>\n",
       "      <th>38</th>\n",
       "      <td>t00039</td>\n",
       "      <td>ABoyAndHisX</td>\n",
       "      <td>A heartwarming story told through the ages: So...</td>\n",
       "    </tr>\n",
       "    <tr>\n",
       "      <th>69</th>\n",
       "      <td>t00070</td>\n",
       "      <td>AbsurdlySharpBlade</td>\n",
       "      <td>An absurdly sharp blade is a bladed weapon wit...</td>\n",
       "    </tr>\n",
       "    <tr>\n",
       "      <th>72</th>\n",
       "      <td>t00073</td>\n",
       "      <td>AbsurdlyYouthfulMother</td>\n",
       "      <td>When you subtract the age (or apparent age) of...</td>\n",
       "    </tr>\n",
       "    <tr>\n",
       "      <th>78</th>\n",
       "      <td>t00079</td>\n",
       "      <td>AbusiveParents</td>\n",
       "      <td>Parents are supposed to be the protectors of c...</td>\n",
       "    </tr>\n",
       "    <tr>\n",
       "      <th>...</th>\n",
       "      <td>...</td>\n",
       "      <td>...</td>\n",
       "      <td>...</td>\n",
       "    </tr>\n",
       "    <tr>\n",
       "      <th>30976</th>\n",
       "      <td>t30977</td>\n",
       "      <td>AntiPoopsocking</td>\n",
       "      <td>\"Poopsocking\" is when a video gamer is so engr...</td>\n",
       "    </tr>\n",
       "    <tr>\n",
       "      <th>30978</th>\n",
       "      <td>t30979</td>\n",
       "      <td>SexySchoolwoman</td>\n",
       "      <td>The widely held belief that girls who attend R...</td>\n",
       "    </tr>\n",
       "    <tr>\n",
       "      <th>30980</th>\n",
       "      <td>t30981</td>\n",
       "      <td>KicktheSonOfABitch</td>\n",
       "      <td>There's nothing quite so evil as when a charac...</td>\n",
       "    </tr>\n",
       "    <tr>\n",
       "      <th>30982</th>\n",
       "      <td>t30983</td>\n",
       "      <td>CutAwayGag</td>\n",
       "      <td>A Cutaway Gag is a joke generally found in sil...</td>\n",
       "    </tr>\n",
       "    <tr>\n",
       "      <th>30983</th>\n",
       "      <td>t30984</td>\n",
       "      <td>SqueakingCarpet</td>\n",
       "      <td>Rodents are widely reviled, but not very threa...</td>\n",
       "    </tr>\n",
       "  </tbody>\n",
       "</table>\n",
       "<p>5193 rows × 3 columns</p>\n",
       "</div>"
      ],
      "text/plain": [
       "      TropeID                   Trope  \\\n",
       "27     t00028              ABNegative   \n",
       "38     t00039             ABoyAndHisX   \n",
       "69     t00070      AbsurdlySharpBlade   \n",
       "72     t00073  AbsurdlyYouthfulMother   \n",
       "78     t00079          AbusiveParents   \n",
       "...       ...                     ...   \n",
       "30976  t30977         AntiPoopsocking   \n",
       "30978  t30979         SexySchoolwoman   \n",
       "30980  t30981      KicktheSonOfABitch   \n",
       "30982  t30983              CutAwayGag   \n",
       "30983  t30984         SqueakingCarpet   \n",
       "\n",
       "                                             Description  \n",
       "27     Although most of the real world gets by quite ...  \n",
       "38     A heartwarming story told through the ages: So...  \n",
       "69     An absurdly sharp blade is a bladed weapon wit...  \n",
       "72     When you subtract the age (or apparent age) of...  \n",
       "78     Parents are supposed to be the protectors of c...  \n",
       "...                                                  ...  \n",
       "30976  \"Poopsocking\" is when a video gamer is so engr...  \n",
       "30978  The widely held belief that girls who attend R...  \n",
       "30980  There's nothing quite so evil as when a charac...  \n",
       "30982  A Cutaway Gag is a joke generally found in sil...  \n",
       "30983  Rodents are widely reviled, but not very threa...  \n",
       "\n",
       "[5193 rows x 3 columns]"
      ]
     },
     "execution_count": 43,
     "metadata": {},
     "output_type": "execute_result"
    }
   ],
   "source": [
    "tropes_raw[tropes_raw[\"Description\"].duplicated(keep=False)]"
   ]
  },
  {
   "cell_type": "code",
   "execution_count": 50,
   "id": "3321a26c-cf33-4d7a-9957-a4c2daffb2e3",
   "metadata": {},
   "outputs": [
    {
     "data": {
      "text/html": [
       "<div>\n",
       "<style scoped>\n",
       "    .dataframe tbody tr th:only-of-type {\n",
       "        vertical-align: middle;\n",
       "    }\n",
       "\n",
       "    .dataframe tbody tr th {\n",
       "        vertical-align: top;\n",
       "    }\n",
       "\n",
       "    .dataframe thead th {\n",
       "        text-align: right;\n",
       "    }\n",
       "</style>\n",
       "<table border=\"1\" class=\"dataframe\">\n",
       "  <thead>\n",
       "    <tr style=\"text-align: right;\">\n",
       "      <th></th>\n",
       "      <th>TropeID</th>\n",
       "      <th>Trope</th>\n",
       "      <th>Description</th>\n",
       "    </tr>\n",
       "  </thead>\n",
       "  <tbody>\n",
       "    <tr>\n",
       "      <th>27</th>\n",
       "      <td>t00028</td>\n",
       "      <td>ABNegative</td>\n",
       "      <td>Although most of the real world gets by quite ...</td>\n",
       "    </tr>\n",
       "    <tr>\n",
       "      <th>38</th>\n",
       "      <td>t00039</td>\n",
       "      <td>ABoyAndHisX</td>\n",
       "      <td>A heartwarming story told through the ages: So...</td>\n",
       "    </tr>\n",
       "    <tr>\n",
       "      <th>69</th>\n",
       "      <td>t00070</td>\n",
       "      <td>AbsurdlySharpBlade</td>\n",
       "      <td>An absurdly sharp blade is a bladed weapon wit...</td>\n",
       "    </tr>\n",
       "    <tr>\n",
       "      <th>72</th>\n",
       "      <td>t00073</td>\n",
       "      <td>AbsurdlyYouthfulMother</td>\n",
       "      <td>When you subtract the age (or apparent age) of...</td>\n",
       "    </tr>\n",
       "    <tr>\n",
       "      <th>78</th>\n",
       "      <td>t00079</td>\n",
       "      <td>AbusiveParents</td>\n",
       "      <td>Parents are supposed to be the protectors of c...</td>\n",
       "    </tr>\n",
       "    <tr>\n",
       "      <th>...</th>\n",
       "      <td>...</td>\n",
       "      <td>...</td>\n",
       "      <td>...</td>\n",
       "    </tr>\n",
       "    <tr>\n",
       "      <th>30976</th>\n",
       "      <td>t30977</td>\n",
       "      <td>AntiPoopsocking</td>\n",
       "      <td>\"Poopsocking\" is when a video gamer is so engr...</td>\n",
       "    </tr>\n",
       "    <tr>\n",
       "      <th>30978</th>\n",
       "      <td>t30979</td>\n",
       "      <td>SexySchoolwoman</td>\n",
       "      <td>The widely held belief that girls who attend R...</td>\n",
       "    </tr>\n",
       "    <tr>\n",
       "      <th>30980</th>\n",
       "      <td>t30981</td>\n",
       "      <td>KicktheSonOfABitch</td>\n",
       "      <td>There's nothing quite so evil as when a charac...</td>\n",
       "    </tr>\n",
       "    <tr>\n",
       "      <th>30982</th>\n",
       "      <td>t30983</td>\n",
       "      <td>CutAwayGag</td>\n",
       "      <td>A Cutaway Gag is a joke generally found in sil...</td>\n",
       "    </tr>\n",
       "    <tr>\n",
       "      <th>30983</th>\n",
       "      <td>t30984</td>\n",
       "      <td>SqueakingCarpet</td>\n",
       "      <td>Rodents are widely reviled, but not very threa...</td>\n",
       "    </tr>\n",
       "  </tbody>\n",
       "</table>\n",
       "<p>5193 rows × 3 columns</p>\n",
       "</div>"
      ],
      "text/plain": [
       "      TropeID                   Trope  \\\n",
       "27     t00028              ABNegative   \n",
       "38     t00039             ABoyAndHisX   \n",
       "69     t00070      AbsurdlySharpBlade   \n",
       "72     t00073  AbsurdlyYouthfulMother   \n",
       "78     t00079          AbusiveParents   \n",
       "...       ...                     ...   \n",
       "30976  t30977         AntiPoopsocking   \n",
       "30978  t30979         SexySchoolwoman   \n",
       "30980  t30981      KicktheSonOfABitch   \n",
       "30982  t30983              CutAwayGag   \n",
       "30983  t30984         SqueakingCarpet   \n",
       "\n",
       "                                             Description  \n",
       "27     Although most of the real world gets by quite ...  \n",
       "38     A heartwarming story told through the ages: So...  \n",
       "69     An absurdly sharp blade is a bladed weapon wit...  \n",
       "72     When you subtract the age (or apparent age) of...  \n",
       "78     Parents are supposed to be the protectors of c...  \n",
       "...                                                  ...  \n",
       "30976  \"Poopsocking\" is when a video gamer is so engr...  \n",
       "30978  The widely held belief that girls who attend R...  \n",
       "30980  There's nothing quite so evil as when a charac...  \n",
       "30982  A Cutaway Gag is a joke generally found in sil...  \n",
       "30983  Rodents are widely reviled, but not very threa...  \n",
       "\n",
       "[5193 rows x 3 columns]"
      ]
     },
     "execution_count": 50,
     "metadata": {},
     "output_type": "execute_result"
    }
   ],
   "source": [
    "tropes_raw[tropes_raw[\"Description\"].duplicated(keep=False) == True]"
   ]
  },
  {
   "cell_type": "code",
   "execution_count": 51,
   "id": "1564e247-d97a-4b79-912e-e6ad1062c325",
   "metadata": {},
   "outputs": [
    {
     "data": {
      "text/plain": [
       "0        False\n",
       "1        False\n",
       "2        False\n",
       "3        False\n",
       "4        False\n",
       "         ...  \n",
       "30979    False\n",
       "30980     True\n",
       "30981    False\n",
       "30982     True\n",
       "30983     True\n",
       "Name: Description, Length: 30984, dtype: bool"
      ]
     },
     "execution_count": 51,
     "metadata": {},
     "output_type": "execute_result"
    }
   ],
   "source": [
    "tropes_raw['Description'].duplicated(keep=False)"
   ]
  },
  {
   "cell_type": "code",
   "execution_count": 46,
   "id": "6c228ea0-7795-4646-8bf0-d4c159c813d7",
   "metadata": {},
   "outputs": [],
   "source": [
    "trope_dict = pd.Series(tropes_raw.TropeID.values,index=tropes_raw.Trope).to_dict()"
   ]
  },
  {
   "cell_type": "code",
   "execution_count": 52,
   "id": "8210dd50-a5d1-40ab-852f-026f406f7b59",
   "metadata": {},
   "outputs": [],
   "source": [
    "lit_tropes =  \"../dataset/TVTropesData/lit_tropes.csv\"\n",
    "lit_goodread_tropes =  \"../dataset/TVTropesData/lit_goodreads_match.csv\""
   ]
  },
  {
   "cell_type": "code",
   "execution_count": 55,
   "id": "e2bf56cd-d951-4f9a-8919-411fd7f1fb3a",
   "metadata": {},
   "outputs": [],
   "source": [
    "lit_df = pd.read_csv(lit_tropes, index_col=0)\n",
    "goodreads_df = pd.read_csv(lit_goodread_tropes, index_col=0)"
   ]
  },
  {
   "cell_type": "code",
   "execution_count": 56,
   "id": "d3484236-4488-4ca1-b2e6-319edb905bbc",
   "metadata": {},
   "outputs": [
    {
     "data": {
      "text/html": [
       "<div>\n",
       "<style scoped>\n",
       "    .dataframe tbody tr th:only-of-type {\n",
       "        vertical-align: middle;\n",
       "    }\n",
       "\n",
       "    .dataframe tbody tr th {\n",
       "        vertical-align: top;\n",
       "    }\n",
       "\n",
       "    .dataframe thead th {\n",
       "        text-align: right;\n",
       "    }\n",
       "</style>\n",
       "<table border=\"1\" class=\"dataframe\">\n",
       "  <thead>\n",
       "    <tr style=\"text-align: right;\">\n",
       "      <th></th>\n",
       "      <th>Title</th>\n",
       "      <th>Trope</th>\n",
       "      <th>Example</th>\n",
       "      <th>trope_id</th>\n",
       "      <th>title_id</th>\n",
       "    </tr>\n",
       "  </thead>\n",
       "  <tbody>\n",
       "    <tr>\n",
       "      <th>0</th>\n",
       "      <td>ABadCaseOfStripes</td>\n",
       "      <td>StockYuck</td>\n",
       "      <td>Lima beans:\\n On The Simpsons, when Marge is ...</td>\n",
       "      <td>t21535</td>\n",
       "      <td>lit0</td>\n",
       "    </tr>\n",
       "    <tr>\n",
       "      <th>1</th>\n",
       "      <td>ABadCaseOfStripes</td>\n",
       "      <td>InvoluntaryShapeshifting</td>\n",
       "      <td>A Bad Case Of Stripes focuses on a girl named...</td>\n",
       "      <td>t27289</td>\n",
       "      <td>lit0</td>\n",
       "    </tr>\n",
       "    <tr>\n",
       "      <th>2</th>\n",
       "      <td>ABadCaseOfStripes</td>\n",
       "      <td>InvoluntaryShapeShifting</td>\n",
       "      <td>A Bad Case Of Stripes focuses on a girl named...</td>\n",
       "      <td>t28603</td>\n",
       "      <td>lit0</td>\n",
       "    </tr>\n",
       "    <tr>\n",
       "      <th>3</th>\n",
       "      <td>ABadCaseOfStripes</td>\n",
       "      <td>OneOfTheseIsNotLikeTheOthers</td>\n",
       "      <td>In A Bad Case Of Stripes, the Specialists det...</td>\n",
       "      <td>t28668</td>\n",
       "      <td>lit0</td>\n",
       "    </tr>\n",
       "    <tr>\n",
       "      <th>4</th>\n",
       "      <td>ABadCaseOfStripes</td>\n",
       "      <td>LabCoatOfScienceAndMedicine</td>\n",
       "      <td>In A Bad Case Of Stripes, the five doctors al...</td>\n",
       "      <td>t29826</td>\n",
       "      <td>lit0</td>\n",
       "    </tr>\n",
       "    <tr>\n",
       "      <th>...</th>\n",
       "      <td>...</td>\n",
       "      <td>...</td>\n",
       "      <td>...</td>\n",
       "      <td>...</td>\n",
       "      <td>...</td>\n",
       "    </tr>\n",
       "    <tr>\n",
       "      <th>685045</th>\n",
       "      <td>ZuleikaDobson</td>\n",
       "      <td>YouCantFightFate</td>\n",
       "      <td>By the time the Duke thinks better of his pla...</td>\n",
       "      <td>t26457</td>\n",
       "      <td>lit15494</td>\n",
       "    </tr>\n",
       "    <tr>\n",
       "      <th>685046</th>\n",
       "      <td>ZuleikaDobson</td>\n",
       "      <td>KillEmAll</td>\n",
       "      <td>Every single undergraduate in Oxford, dead.</td>\n",
       "      <td>t12334</td>\n",
       "      <td>lit15494</td>\n",
       "    </tr>\n",
       "    <tr>\n",
       "      <th>685047</th>\n",
       "      <td>ZuleikaDobson</td>\n",
       "      <td>SeriousBusiness</td>\n",
       "      <td>Drowning yourself for love of a  Femme Fatale...</td>\n",
       "      <td>t19895</td>\n",
       "      <td>lit15494</td>\n",
       "    </tr>\n",
       "    <tr>\n",
       "      <th>685048</th>\n",
       "      <td>ZuleikaDobson</td>\n",
       "      <td>FemmeFatale</td>\n",
       "      <td>The title character of Max Beerbohm's Black C...</td>\n",
       "      <td>t07883</td>\n",
       "      <td>lit15494</td>\n",
       "    </tr>\n",
       "    <tr>\n",
       "      <th>685049</th>\n",
       "      <td>ZuleikaDobson</td>\n",
       "      <td>SoBeautifulItsACurse</td>\n",
       "      <td>Zuleika has never loved, because she cannot l...</td>\n",
       "      <td>t20764</td>\n",
       "      <td>lit15494</td>\n",
       "    </tr>\n",
       "  </tbody>\n",
       "</table>\n",
       "<p>679618 rows × 5 columns</p>\n",
       "</div>"
      ],
      "text/plain": [
       "                    Title                         Trope  \\\n",
       "0       ABadCaseOfStripes                     StockYuck   \n",
       "1       ABadCaseOfStripes      InvoluntaryShapeshifting   \n",
       "2       ABadCaseOfStripes      InvoluntaryShapeShifting   \n",
       "3       ABadCaseOfStripes  OneOfTheseIsNotLikeTheOthers   \n",
       "4       ABadCaseOfStripes   LabCoatOfScienceAndMedicine   \n",
       "...                   ...                           ...   \n",
       "685045      ZuleikaDobson              YouCantFightFate   \n",
       "685046      ZuleikaDobson                     KillEmAll   \n",
       "685047      ZuleikaDobson               SeriousBusiness   \n",
       "685048      ZuleikaDobson                   FemmeFatale   \n",
       "685049      ZuleikaDobson          SoBeautifulItsACurse   \n",
       "\n",
       "                                                  Example trope_id  title_id  \n",
       "0        Lima beans:\\n On The Simpsons, when Marge is ...   t21535      lit0  \n",
       "1        A Bad Case Of Stripes focuses on a girl named...   t27289      lit0  \n",
       "2        A Bad Case Of Stripes focuses on a girl named...   t28603      lit0  \n",
       "3        In A Bad Case Of Stripes, the Specialists det...   t28668      lit0  \n",
       "4        In A Bad Case Of Stripes, the five doctors al...   t29826      lit0  \n",
       "...                                                   ...      ...       ...  \n",
       "685045   By the time the Duke thinks better of his pla...   t26457  lit15494  \n",
       "685046        Every single undergraduate in Oxford, dead.   t12334  lit15494  \n",
       "685047   Drowning yourself for love of a  Femme Fatale...   t19895  lit15494  \n",
       "685048   The title character of Max Beerbohm's Black C...   t07883  lit15494  \n",
       "685049   Zuleika has never loved, because she cannot l...   t20764  lit15494  \n",
       "\n",
       "[679618 rows x 5 columns]"
      ]
     },
     "execution_count": 56,
     "metadata": {},
     "output_type": "execute_result"
    }
   ],
   "source": [
    "lit_df"
   ]
  },
  {
   "cell_type": "code",
   "execution_count": 57,
   "id": "59069c71-0416-45a4-8d37-d939698f157d",
   "metadata": {},
   "outputs": [],
   "source": [
    "# get the most frequent trope ids in both dfs\n",
    "# choose a subset from that to query LLaMA"
   ]
  },
  {
   "cell_type": "code",
   "execution_count": 59,
   "id": "e883a12a-e297-4041-b938-5a55688e7337",
   "metadata": {},
   "outputs": [
    {
     "data": {
      "text/plain": [
       "t20214    1431\n",
       "t13853    1103\n",
       "t29575    1058\n",
       "t02187     953\n",
       "t02336     788\n",
       "t03644     771\n",
       "t05235     711\n",
       "t08393     692\n",
       "t00190     675\n",
       "t06260     603\n",
       "t24006     570\n",
       "t02114     545\n",
       "t10114     545\n",
       "t00079     527\n",
       "t27271     469\n",
       "t26668     452\n",
       "t04366     452\n",
       "t10094     437\n",
       "t01232     427\n",
       "t12069     425\n",
       "t15984     421\n",
       "t01546     418\n",
       "t01284     416\n",
       "t25818     414\n",
       "t25848     410\n",
       "t06593     405\n",
       "t09986     392\n",
       "t25683     389\n",
       "t22219     385\n",
       "t15718     383\n",
       "t19186     381\n",
       "t20226     379\n",
       "t23423     377\n",
       "t15265     376\n",
       "t01428     371\n",
       "t04651     369\n",
       "t24933     366\n",
       "t12292     362\n",
       "t15522     361\n",
       "t16671     360\n",
       "t14868     360\n",
       "t22820     358\n",
       "t05765     357\n",
       "t06980     357\n",
       "t15451     356\n",
       "t05847     355\n",
       "t26550     352\n",
       "t04010     352\n",
       "t29374     349\n",
       "t29994     349\n",
       "Name: trope_id, dtype: int64"
      ]
     },
     "execution_count": 59,
     "metadata": {},
     "output_type": "execute_result"
    }
   ],
   "source": [
    "lit_df['trope_id'].value_counts().nlargest(50)"
   ]
  },
  {
   "cell_type": "code",
   "execution_count": 60,
   "id": "b433e995-abe8-42fb-9f8d-37f86be6a402",
   "metadata": {},
   "outputs": [
    {
     "data": {
      "text/plain": [
       "t20214    688\n",
       "t13853    643\n",
       "t29575    557\n",
       "t03644    467\n",
       "t02336    462\n",
       "t08393    422\n",
       "t05235    376\n",
       "t02187    367\n",
       "t06260    340\n",
       "t24006    332\n",
       "t00079    299\n",
       "t02114    285\n",
       "t29374    277\n",
       "t26668    273\n",
       "t01546    269\n",
       "t00190    262\n",
       "t25848    250\n",
       "t01232    245\n",
       "t10114    244\n",
       "t10094    235\n",
       "t25818    227\n",
       "t12069    226\n",
       "t15984    220\n",
       "t24933    218\n",
       "t15718    210\n",
       "t15451    210\n",
       "t26550    209\n",
       "t14868    209\n",
       "t12984    208\n",
       "t22582    207\n",
       "t15265    206\n",
       "t04366    205\n",
       "t01428    205\n",
       "t05847    204\n",
       "t00328    202\n",
       "t20226    200\n",
       "t12292    198\n",
       "t16671    198\n",
       "t03645    197\n",
       "t25880    193\n",
       "t15522    192\n",
       "t05765    192\n",
       "t06980    191\n",
       "t01284    190\n",
       "t22219    189\n",
       "t02810    187\n",
       "t04651    184\n",
       "t18297    182\n",
       "t02627    181\n",
       "t13313    180\n",
       "Name: trope_id, dtype: int64"
      ]
     },
     "execution_count": 60,
     "metadata": {},
     "output_type": "execute_result"
    }
   ],
   "source": [
    "goodreads_df['trope_id'].value_counts().nlargest(50)"
   ]
  },
  {
   "cell_type": "code",
   "execution_count": 73,
   "id": "f23ff8bc-98d7-47f1-b983-977deadacd8c",
   "metadata": {},
   "outputs": [],
   "source": [
    "common_tropes = set(lit_df['trope_id'].value_counts().nlargest(100).index.tolist()) & set(goodreads_df['trope_id'].value_counts().nlargest(100).index.tolist())"
   ]
  },
  {
   "cell_type": "code",
   "execution_count": 72,
   "id": "a4fc6539-de63-4350-9465-db2d009dcb2d",
   "metadata": {},
   "outputs": [],
   "source": [
    "# s1 = lit_df['trope_id'].value_counts().nlargest(50).index.tolist()\n",
    "# s2 = goodreads_df['trope_id'].value_counts().nlargest(50).index.tolist()\n",
    "# s1[s1.isin(s2)]"
   ]
  },
  {
   "cell_type": "code",
   "execution_count": 76,
   "id": "ee75f975-e488-447f-89d9-2b7e9a7b39d2",
   "metadata": {},
   "outputs": [
    {
     "data": {
      "text/plain": [
       "88"
      ]
     },
     "execution_count": 76,
     "metadata": {},
     "output_type": "execute_result"
    }
   ],
   "source": [
    "len(list(common_tropes))"
   ]
  },
  {
   "cell_type": "code",
   "execution_count": 80,
   "id": "9bb3b800-f045-4241-af83-0b1369f7d890",
   "metadata": {},
   "outputs": [],
   "source": [
    "tropes_raw[tropes_raw['TropeID'].isin(common_tropes)].to_csv('my_tropes.csv', index=False)"
   ]
  },
  {
   "cell_type": "code",
   "execution_count": null,
   "id": "829a2c0c-7741-4540-bab5-f7d3dc085194",
   "metadata": {},
   "outputs": [],
   "source": []
  }
 ],
 "metadata": {
  "kernelspec": {
   "display_name": "Python 3 (ipykernel)",
   "language": "python",
   "name": "python3"
  },
  "language_info": {
   "codemirror_mode": {
    "name": "ipython",
    "version": 3
   },
   "file_extension": ".py",
   "mimetype": "text/x-python",
   "name": "python",
   "nbconvert_exporter": "python",
   "pygments_lexer": "ipython3",
   "version": "3.9.13"
  }
 },
 "nbformat": 4,
 "nbformat_minor": 5
}
