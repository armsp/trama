{
 "cells": [
  {
   "cell_type": "code",
   "execution_count": 1,
   "id": "73aacf95-47e1-4208-a55b-310b27449bfa",
   "metadata": {},
   "outputs": [],
   "source": [
    "import pandas as pd\n",
    "import numpy as np\n",
    "from tqdm.auto import tqdm\n",
    "tqdm.pandas()"
   ]
  },
  {
   "cell_type": "code",
   "execution_count": 2,
   "id": "4e3a8e0b-95f2-47a3-b083-66407657647f",
   "metadata": {},
   "outputs": [],
   "source": [
    "dataset_path = \"../dataset/TVTropesData/tropes.csv\""
   ]
  },
  {
   "cell_type": "code",
   "execution_count": 3,
   "id": "981b4317-c1f0-4a41-8ff2-11c50233cf38",
   "metadata": {},
   "outputs": [],
   "source": [
    "tropes_raw = pd.read_csv(dataset_path, index_col=0, dtype={\"TropeID\": str, \"Trope\": str, \"Description\": str})"
   ]
  },
  {
   "cell_type": "code",
   "execution_count": 4,
   "id": "3ee21e87-2aa3-458e-ad77-d47ca8e10b01",
   "metadata": {},
   "outputs": [
    {
     "data": {
      "text/html": [
       "<div>\n",
       "<style scoped>\n",
       "    .dataframe tbody tr th:only-of-type {\n",
       "        vertical-align: middle;\n",
       "    }\n",
       "\n",
       "    .dataframe tbody tr th {\n",
       "        vertical-align: top;\n",
       "    }\n",
       "\n",
       "    .dataframe thead th {\n",
       "        text-align: right;\n",
       "    }\n",
       "</style>\n",
       "<table border=\"1\" class=\"dataframe\">\n",
       "  <thead>\n",
       "    <tr style=\"text-align: right;\">\n",
       "      <th></th>\n",
       "      <th>TropeID</th>\n",
       "      <th>Trope</th>\n",
       "      <th>Description</th>\n",
       "    </tr>\n",
       "  </thead>\n",
       "  <tbody>\n",
       "    <tr>\n",
       "      <th>0</th>\n",
       "      <td>t00001</td>\n",
       "      <td>AbandonedArea</td>\n",
       "      <td>\\nAbandoned places make good settings for fict...</td>\n",
       "    </tr>\n",
       "    <tr>\n",
       "      <th>1</th>\n",
       "      <td>t00002</td>\n",
       "      <td>AbandonedCatchphrase</td>\n",
       "      <td>Catchphrases are a great and simple way to hel...</td>\n",
       "    </tr>\n",
       "    <tr>\n",
       "      <th>2</th>\n",
       "      <td>t00003</td>\n",
       "      <td>AbandonedHospital</td>\n",
       "      <td>The creepy abandoned hospital/mental instituti...</td>\n",
       "    </tr>\n",
       "    <tr>\n",
       "      <th>3</th>\n",
       "      <td>t00004</td>\n",
       "      <td>AbandonedHospitalAwakening</td>\n",
       "      <td>An Abandoned Hospital Awakening is, as the nam...</td>\n",
       "    </tr>\n",
       "    <tr>\n",
       "      <th>4</th>\n",
       "      <td>t00005</td>\n",
       "      <td>AbandonedInfoPage</td>\n",
       "      <td>When a work is getting more and more complicat...</td>\n",
       "    </tr>\n",
       "    <tr>\n",
       "      <th>...</th>\n",
       "      <td>...</td>\n",
       "      <td>...</td>\n",
       "      <td>...</td>\n",
       "    </tr>\n",
       "    <tr>\n",
       "      <th>30979</th>\n",
       "      <td>t30980</td>\n",
       "      <td>FlowersInHerHair</td>\n",
       "      <td>\\nFlowers have long been a symbol of femininit...</td>\n",
       "    </tr>\n",
       "    <tr>\n",
       "      <th>30980</th>\n",
       "      <td>t30981</td>\n",
       "      <td>KicktheSonOfABitch</td>\n",
       "      <td>\\nThere's nothing quite so evil as when a char...</td>\n",
       "    </tr>\n",
       "    <tr>\n",
       "      <th>30981</th>\n",
       "      <td>t30982</td>\n",
       "      <td>ParentProducedProject</td>\n",
       "      <td>When a child needs a school project done, some...</td>\n",
       "    </tr>\n",
       "    <tr>\n",
       "      <th>30982</th>\n",
       "      <td>t30983</td>\n",
       "      <td>CutAwayGag</td>\n",
       "      <td>\\nA Cutaway Gag is a joke generally found in s...</td>\n",
       "    </tr>\n",
       "    <tr>\n",
       "      <th>30983</th>\n",
       "      <td>t30984</td>\n",
       "      <td>SqueakingCarpet</td>\n",
       "      <td>\\nRodents are widely reviled, but not very thr...</td>\n",
       "    </tr>\n",
       "  </tbody>\n",
       "</table>\n",
       "<p>30984 rows × 3 columns</p>\n",
       "</div>"
      ],
      "text/plain": [
       "      TropeID                       Trope  \\\n",
       "0      t00001               AbandonedArea   \n",
       "1      t00002        AbandonedCatchphrase   \n",
       "2      t00003           AbandonedHospital   \n",
       "3      t00004  AbandonedHospitalAwakening   \n",
       "4      t00005           AbandonedInfoPage   \n",
       "...       ...                         ...   \n",
       "30979  t30980            FlowersInHerHair   \n",
       "30980  t30981          KicktheSonOfABitch   \n",
       "30981  t30982       ParentProducedProject   \n",
       "30982  t30983                  CutAwayGag   \n",
       "30983  t30984             SqueakingCarpet   \n",
       "\n",
       "                                             Description  \n",
       "0      \\nAbandoned places make good settings for fict...  \n",
       "1      Catchphrases are a great and simple way to hel...  \n",
       "2      The creepy abandoned hospital/mental instituti...  \n",
       "3      An Abandoned Hospital Awakening is, as the nam...  \n",
       "4      When a work is getting more and more complicat...  \n",
       "...                                                  ...  \n",
       "30979  \\nFlowers have long been a symbol of femininit...  \n",
       "30980  \\nThere's nothing quite so evil as when a char...  \n",
       "30981  When a child needs a school project done, some...  \n",
       "30982  \\nA Cutaway Gag is a joke generally found in s...  \n",
       "30983  \\nRodents are widely reviled, but not very thr...  \n",
       "\n",
       "[30984 rows x 3 columns]"
      ]
     },
     "execution_count": 4,
     "metadata": {},
     "output_type": "execute_result"
    }
   ],
   "source": [
    "tropes_raw"
   ]
  },
  {
   "cell_type": "code",
   "execution_count": 6,
   "id": "37122160-4350-4460-9b2f-9963a161d406",
   "metadata": {},
   "outputs": [
    {
     "data": {
      "text/plain": [
       "24"
      ]
     },
     "execution_count": 6,
     "metadata": {},
     "output_type": "execute_result"
    }
   ],
   "source": [
    "tropes_raw.Description.isnull().sum()"
   ]
  },
  {
   "cell_type": "code",
   "execution_count": 7,
   "id": "9151d2aa-e77e-43b6-a440-e5c43456aa13",
   "metadata": {},
   "outputs": [],
   "source": [
    "tropes_raw[\"Description\"] = tropes_raw[\"Description\"].str.strip(' \\t\\n\\r')"
   ]
  },
  {
   "cell_type": "code",
   "execution_count": 8,
   "id": "3bda2fb7-8176-4e79-965f-241ad8fad1e2",
   "metadata": {},
   "outputs": [
    {
     "data": {
      "text/plain": [
       "count                                                 30960\n",
       "unique                                                28130\n",
       "top       Lampshade Hanging (or, more informally, \"Lamps...\n",
       "freq                                                     10\n",
       "Name: Description, dtype: object"
      ]
     },
     "execution_count": 8,
     "metadata": {},
     "output_type": "execute_result"
    }
   ],
   "source": [
    "tropes_raw.Description.describe()"
   ]
  },
  {
   "cell_type": "code",
   "execution_count": 9,
   "id": "7cbf5b66-820e-4f92-9d79-1bb2d85f00c6",
   "metadata": {},
   "outputs": [
    {
     "data": {
      "text/plain": [
       "count             30984\n",
       "unique            30984\n",
       "top       AbandonedArea\n",
       "freq                  1\n",
       "Name: Trope, dtype: object"
      ]
     },
     "execution_count": 9,
     "metadata": {},
     "output_type": "execute_result"
    }
   ],
   "source": [
    "tropes_raw.Trope.describe()"
   ]
  },
  {
   "cell_type": "code",
   "execution_count": 10,
   "id": "2a729f6b-7c7b-47ab-befe-bd7580cae4b4",
   "metadata": {},
   "outputs": [
    {
     "data": {
      "text/plain": [
       "count      30984\n",
       "unique     30984\n",
       "top       t00001\n",
       "freq           1\n",
       "Name: TropeID, dtype: object"
      ]
     },
     "execution_count": 10,
     "metadata": {},
     "output_type": "execute_result"
    }
   ],
   "source": [
    "tropes_raw.TropeID.describe()"
   ]
  },
  {
   "cell_type": "code",
   "execution_count": 11,
   "id": "08ccfddd-0782-4d5c-9b50-6bdb710d50c6",
   "metadata": {},
   "outputs": [
    {
     "data": {
      "text/html": [
       "<div>\n",
       "<style scoped>\n",
       "    .dataframe tbody tr th:only-of-type {\n",
       "        vertical-align: middle;\n",
       "    }\n",
       "\n",
       "    .dataframe tbody tr th {\n",
       "        vertical-align: top;\n",
       "    }\n",
       "\n",
       "    .dataframe thead th {\n",
       "        text-align: right;\n",
       "    }\n",
       "</style>\n",
       "<table border=\"1\" class=\"dataframe\">\n",
       "  <thead>\n",
       "    <tr style=\"text-align: right;\">\n",
       "      <th></th>\n",
       "      <th>TropeID</th>\n",
       "      <th>Trope</th>\n",
       "      <th>Description</th>\n",
       "    </tr>\n",
       "  </thead>\n",
       "  <tbody>\n",
       "    <tr>\n",
       "      <th>27</th>\n",
       "      <td>t00028</td>\n",
       "      <td>ABNegative</td>\n",
       "      <td>Although most of the real world gets by quite ...</td>\n",
       "    </tr>\n",
       "    <tr>\n",
       "      <th>38</th>\n",
       "      <td>t00039</td>\n",
       "      <td>ABoyAndHisX</td>\n",
       "      <td>A heartwarming story told through the ages: So...</td>\n",
       "    </tr>\n",
       "    <tr>\n",
       "      <th>69</th>\n",
       "      <td>t00070</td>\n",
       "      <td>AbsurdlySharpBlade</td>\n",
       "      <td>An absurdly sharp blade is a bladed weapon wit...</td>\n",
       "    </tr>\n",
       "    <tr>\n",
       "      <th>72</th>\n",
       "      <td>t00073</td>\n",
       "      <td>AbsurdlyYouthfulMother</td>\n",
       "      <td>When you subtract the age (or apparent age) of...</td>\n",
       "    </tr>\n",
       "    <tr>\n",
       "      <th>78</th>\n",
       "      <td>t00079</td>\n",
       "      <td>AbusiveParents</td>\n",
       "      <td>Parents are supposed to be the protectors of c...</td>\n",
       "    </tr>\n",
       "    <tr>\n",
       "      <th>...</th>\n",
       "      <td>...</td>\n",
       "      <td>...</td>\n",
       "      <td>...</td>\n",
       "    </tr>\n",
       "    <tr>\n",
       "      <th>30976</th>\n",
       "      <td>t30977</td>\n",
       "      <td>AntiPoopsocking</td>\n",
       "      <td>\"Poopsocking\" is when a video gamer is so engr...</td>\n",
       "    </tr>\n",
       "    <tr>\n",
       "      <th>30978</th>\n",
       "      <td>t30979</td>\n",
       "      <td>SexySchoolwoman</td>\n",
       "      <td>The widely held belief that girls who attend R...</td>\n",
       "    </tr>\n",
       "    <tr>\n",
       "      <th>30980</th>\n",
       "      <td>t30981</td>\n",
       "      <td>KicktheSonOfABitch</td>\n",
       "      <td>There's nothing quite so evil as when a charac...</td>\n",
       "    </tr>\n",
       "    <tr>\n",
       "      <th>30982</th>\n",
       "      <td>t30983</td>\n",
       "      <td>CutAwayGag</td>\n",
       "      <td>A Cutaway Gag is a joke generally found in sil...</td>\n",
       "    </tr>\n",
       "    <tr>\n",
       "      <th>30983</th>\n",
       "      <td>t30984</td>\n",
       "      <td>SqueakingCarpet</td>\n",
       "      <td>Rodents are widely reviled, but not very threa...</td>\n",
       "    </tr>\n",
       "  </tbody>\n",
       "</table>\n",
       "<p>5193 rows × 3 columns</p>\n",
       "</div>"
      ],
      "text/plain": [
       "      TropeID                   Trope  \\\n",
       "27     t00028              ABNegative   \n",
       "38     t00039             ABoyAndHisX   \n",
       "69     t00070      AbsurdlySharpBlade   \n",
       "72     t00073  AbsurdlyYouthfulMother   \n",
       "78     t00079          AbusiveParents   \n",
       "...       ...                     ...   \n",
       "30976  t30977         AntiPoopsocking   \n",
       "30978  t30979         SexySchoolwoman   \n",
       "30980  t30981      KicktheSonOfABitch   \n",
       "30982  t30983              CutAwayGag   \n",
       "30983  t30984         SqueakingCarpet   \n",
       "\n",
       "                                             Description  \n",
       "27     Although most of the real world gets by quite ...  \n",
       "38     A heartwarming story told through the ages: So...  \n",
       "69     An absurdly sharp blade is a bladed weapon wit...  \n",
       "72     When you subtract the age (or apparent age) of...  \n",
       "78     Parents are supposed to be the protectors of c...  \n",
       "...                                                  ...  \n",
       "30976  \"Poopsocking\" is when a video gamer is so engr...  \n",
       "30978  The widely held belief that girls who attend R...  \n",
       "30980  There's nothing quite so evil as when a charac...  \n",
       "30982  A Cutaway Gag is a joke generally found in sil...  \n",
       "30983  Rodents are widely reviled, but not very threa...  \n",
       "\n",
       "[5193 rows x 3 columns]"
      ]
     },
     "execution_count": 11,
     "metadata": {},
     "output_type": "execute_result"
    }
   ],
   "source": [
    "tropes_raw[tropes_raw[\"Description\"].duplicated(keep=False)]"
   ]
  },
  {
   "cell_type": "code",
   "execution_count": 12,
   "id": "3321a26c-cf33-4d7a-9957-a4c2daffb2e3",
   "metadata": {},
   "outputs": [
    {
     "data": {
      "text/html": [
       "<div>\n",
       "<style scoped>\n",
       "    .dataframe tbody tr th:only-of-type {\n",
       "        vertical-align: middle;\n",
       "    }\n",
       "\n",
       "    .dataframe tbody tr th {\n",
       "        vertical-align: top;\n",
       "    }\n",
       "\n",
       "    .dataframe thead th {\n",
       "        text-align: right;\n",
       "    }\n",
       "</style>\n",
       "<table border=\"1\" class=\"dataframe\">\n",
       "  <thead>\n",
       "    <tr style=\"text-align: right;\">\n",
       "      <th></th>\n",
       "      <th>TropeID</th>\n",
       "      <th>Trope</th>\n",
       "      <th>Description</th>\n",
       "    </tr>\n",
       "  </thead>\n",
       "  <tbody>\n",
       "    <tr>\n",
       "      <th>27</th>\n",
       "      <td>t00028</td>\n",
       "      <td>ABNegative</td>\n",
       "      <td>Although most of the real world gets by quite ...</td>\n",
       "    </tr>\n",
       "    <tr>\n",
       "      <th>38</th>\n",
       "      <td>t00039</td>\n",
       "      <td>ABoyAndHisX</td>\n",
       "      <td>A heartwarming story told through the ages: So...</td>\n",
       "    </tr>\n",
       "    <tr>\n",
       "      <th>69</th>\n",
       "      <td>t00070</td>\n",
       "      <td>AbsurdlySharpBlade</td>\n",
       "      <td>An absurdly sharp blade is a bladed weapon wit...</td>\n",
       "    </tr>\n",
       "    <tr>\n",
       "      <th>72</th>\n",
       "      <td>t00073</td>\n",
       "      <td>AbsurdlyYouthfulMother</td>\n",
       "      <td>When you subtract the age (or apparent age) of...</td>\n",
       "    </tr>\n",
       "    <tr>\n",
       "      <th>78</th>\n",
       "      <td>t00079</td>\n",
       "      <td>AbusiveParents</td>\n",
       "      <td>Parents are supposed to be the protectors of c...</td>\n",
       "    </tr>\n",
       "    <tr>\n",
       "      <th>...</th>\n",
       "      <td>...</td>\n",
       "      <td>...</td>\n",
       "      <td>...</td>\n",
       "    </tr>\n",
       "    <tr>\n",
       "      <th>30976</th>\n",
       "      <td>t30977</td>\n",
       "      <td>AntiPoopsocking</td>\n",
       "      <td>\"Poopsocking\" is when a video gamer is so engr...</td>\n",
       "    </tr>\n",
       "    <tr>\n",
       "      <th>30978</th>\n",
       "      <td>t30979</td>\n",
       "      <td>SexySchoolwoman</td>\n",
       "      <td>The widely held belief that girls who attend R...</td>\n",
       "    </tr>\n",
       "    <tr>\n",
       "      <th>30980</th>\n",
       "      <td>t30981</td>\n",
       "      <td>KicktheSonOfABitch</td>\n",
       "      <td>There's nothing quite so evil as when a charac...</td>\n",
       "    </tr>\n",
       "    <tr>\n",
       "      <th>30982</th>\n",
       "      <td>t30983</td>\n",
       "      <td>CutAwayGag</td>\n",
       "      <td>A Cutaway Gag is a joke generally found in sil...</td>\n",
       "    </tr>\n",
       "    <tr>\n",
       "      <th>30983</th>\n",
       "      <td>t30984</td>\n",
       "      <td>SqueakingCarpet</td>\n",
       "      <td>Rodents are widely reviled, but not very threa...</td>\n",
       "    </tr>\n",
       "  </tbody>\n",
       "</table>\n",
       "<p>5193 rows × 3 columns</p>\n",
       "</div>"
      ],
      "text/plain": [
       "      TropeID                   Trope  \\\n",
       "27     t00028              ABNegative   \n",
       "38     t00039             ABoyAndHisX   \n",
       "69     t00070      AbsurdlySharpBlade   \n",
       "72     t00073  AbsurdlyYouthfulMother   \n",
       "78     t00079          AbusiveParents   \n",
       "...       ...                     ...   \n",
       "30976  t30977         AntiPoopsocking   \n",
       "30978  t30979         SexySchoolwoman   \n",
       "30980  t30981      KicktheSonOfABitch   \n",
       "30982  t30983              CutAwayGag   \n",
       "30983  t30984         SqueakingCarpet   \n",
       "\n",
       "                                             Description  \n",
       "27     Although most of the real world gets by quite ...  \n",
       "38     A heartwarming story told through the ages: So...  \n",
       "69     An absurdly sharp blade is a bladed weapon wit...  \n",
       "72     When you subtract the age (or apparent age) of...  \n",
       "78     Parents are supposed to be the protectors of c...  \n",
       "...                                                  ...  \n",
       "30976  \"Poopsocking\" is when a video gamer is so engr...  \n",
       "30978  The widely held belief that girls who attend R...  \n",
       "30980  There's nothing quite so evil as when a charac...  \n",
       "30982  A Cutaway Gag is a joke generally found in sil...  \n",
       "30983  Rodents are widely reviled, but not very threa...  \n",
       "\n",
       "[5193 rows x 3 columns]"
      ]
     },
     "execution_count": 12,
     "metadata": {},
     "output_type": "execute_result"
    }
   ],
   "source": [
    "tropes_raw[tropes_raw[\"Description\"].duplicated(keep=False) == True]"
   ]
  },
  {
   "cell_type": "code",
   "execution_count": 13,
   "id": "1564e247-d97a-4b79-912e-e6ad1062c325",
   "metadata": {},
   "outputs": [
    {
     "data": {
      "text/plain": [
       "0        False\n",
       "1        False\n",
       "2        False\n",
       "3        False\n",
       "4        False\n",
       "         ...  \n",
       "30979    False\n",
       "30980     True\n",
       "30981    False\n",
       "30982     True\n",
       "30983     True\n",
       "Name: Description, Length: 30984, dtype: bool"
      ]
     },
     "execution_count": 13,
     "metadata": {},
     "output_type": "execute_result"
    }
   ],
   "source": [
    "tropes_raw['Description'].duplicated(keep=False)"
   ]
  },
  {
   "cell_type": "code",
   "execution_count": 14,
   "id": "6c228ea0-7795-4646-8bf0-d4c159c813d7",
   "metadata": {},
   "outputs": [],
   "source": [
    "trope_dict = pd.Series(tropes_raw.TropeID.values,index=tropes_raw.Trope).to_dict()"
   ]
  },
  {
   "cell_type": "code",
   "execution_count": 15,
   "id": "8210dd50-a5d1-40ab-852f-026f406f7b59",
   "metadata": {},
   "outputs": [],
   "source": [
    "lit_tropes =  \"../dataset/TVTropesData/lit_tropes.csv\"\n",
    "lit_goodread_tropes =  \"../dataset/TVTropesData/lit_goodreads_match.csv\""
   ]
  },
  {
   "cell_type": "code",
   "execution_count": 16,
   "id": "e2bf56cd-d951-4f9a-8919-411fd7f1fb3a",
   "metadata": {},
   "outputs": [],
   "source": [
    "lit_df = pd.read_csv(lit_tropes, index_col=0)\n",
    "goodreads_df = pd.read_csv(lit_goodread_tropes, index_col=0)"
   ]
  },
  {
   "cell_type": "code",
   "execution_count": 17,
   "id": "d3484236-4488-4ca1-b2e6-319edb905bbc",
   "metadata": {},
   "outputs": [
    {
     "data": {
      "text/html": [
       "<div>\n",
       "<style scoped>\n",
       "    .dataframe tbody tr th:only-of-type {\n",
       "        vertical-align: middle;\n",
       "    }\n",
       "\n",
       "    .dataframe tbody tr th {\n",
       "        vertical-align: top;\n",
       "    }\n",
       "\n",
       "    .dataframe thead th {\n",
       "        text-align: right;\n",
       "    }\n",
       "</style>\n",
       "<table border=\"1\" class=\"dataframe\">\n",
       "  <thead>\n",
       "    <tr style=\"text-align: right;\">\n",
       "      <th></th>\n",
       "      <th>Title</th>\n",
       "      <th>Trope</th>\n",
       "      <th>Example</th>\n",
       "      <th>trope_id</th>\n",
       "      <th>title_id</th>\n",
       "    </tr>\n",
       "  </thead>\n",
       "  <tbody>\n",
       "    <tr>\n",
       "      <th>0</th>\n",
       "      <td>ABadCaseOfStripes</td>\n",
       "      <td>StockYuck</td>\n",
       "      <td>Lima beans:\\n On The Simpsons, when Marge is ...</td>\n",
       "      <td>t21535</td>\n",
       "      <td>lit0</td>\n",
       "    </tr>\n",
       "    <tr>\n",
       "      <th>1</th>\n",
       "      <td>ABadCaseOfStripes</td>\n",
       "      <td>InvoluntaryShapeshifting</td>\n",
       "      <td>A Bad Case Of Stripes focuses on a girl named...</td>\n",
       "      <td>t27289</td>\n",
       "      <td>lit0</td>\n",
       "    </tr>\n",
       "    <tr>\n",
       "      <th>2</th>\n",
       "      <td>ABadCaseOfStripes</td>\n",
       "      <td>InvoluntaryShapeShifting</td>\n",
       "      <td>A Bad Case Of Stripes focuses on a girl named...</td>\n",
       "      <td>t28603</td>\n",
       "      <td>lit0</td>\n",
       "    </tr>\n",
       "    <tr>\n",
       "      <th>3</th>\n",
       "      <td>ABadCaseOfStripes</td>\n",
       "      <td>OneOfTheseIsNotLikeTheOthers</td>\n",
       "      <td>In A Bad Case Of Stripes, the Specialists det...</td>\n",
       "      <td>t28668</td>\n",
       "      <td>lit0</td>\n",
       "    </tr>\n",
       "    <tr>\n",
       "      <th>4</th>\n",
       "      <td>ABadCaseOfStripes</td>\n",
       "      <td>LabCoatOfScienceAndMedicine</td>\n",
       "      <td>In A Bad Case Of Stripes, the five doctors al...</td>\n",
       "      <td>t29826</td>\n",
       "      <td>lit0</td>\n",
       "    </tr>\n",
       "    <tr>\n",
       "      <th>...</th>\n",
       "      <td>...</td>\n",
       "      <td>...</td>\n",
       "      <td>...</td>\n",
       "      <td>...</td>\n",
       "      <td>...</td>\n",
       "    </tr>\n",
       "    <tr>\n",
       "      <th>685045</th>\n",
       "      <td>ZuleikaDobson</td>\n",
       "      <td>YouCantFightFate</td>\n",
       "      <td>By the time the Duke thinks better of his pla...</td>\n",
       "      <td>t26457</td>\n",
       "      <td>lit15494</td>\n",
       "    </tr>\n",
       "    <tr>\n",
       "      <th>685046</th>\n",
       "      <td>ZuleikaDobson</td>\n",
       "      <td>KillEmAll</td>\n",
       "      <td>Every single undergraduate in Oxford, dead.</td>\n",
       "      <td>t12334</td>\n",
       "      <td>lit15494</td>\n",
       "    </tr>\n",
       "    <tr>\n",
       "      <th>685047</th>\n",
       "      <td>ZuleikaDobson</td>\n",
       "      <td>SeriousBusiness</td>\n",
       "      <td>Drowning yourself for love of a  Femme Fatale...</td>\n",
       "      <td>t19895</td>\n",
       "      <td>lit15494</td>\n",
       "    </tr>\n",
       "    <tr>\n",
       "      <th>685048</th>\n",
       "      <td>ZuleikaDobson</td>\n",
       "      <td>FemmeFatale</td>\n",
       "      <td>The title character of Max Beerbohm's Black C...</td>\n",
       "      <td>t07883</td>\n",
       "      <td>lit15494</td>\n",
       "    </tr>\n",
       "    <tr>\n",
       "      <th>685049</th>\n",
       "      <td>ZuleikaDobson</td>\n",
       "      <td>SoBeautifulItsACurse</td>\n",
       "      <td>Zuleika has never loved, because she cannot l...</td>\n",
       "      <td>t20764</td>\n",
       "      <td>lit15494</td>\n",
       "    </tr>\n",
       "  </tbody>\n",
       "</table>\n",
       "<p>679618 rows × 5 columns</p>\n",
       "</div>"
      ],
      "text/plain": [
       "                    Title                         Trope  \\\n",
       "0       ABadCaseOfStripes                     StockYuck   \n",
       "1       ABadCaseOfStripes      InvoluntaryShapeshifting   \n",
       "2       ABadCaseOfStripes      InvoluntaryShapeShifting   \n",
       "3       ABadCaseOfStripes  OneOfTheseIsNotLikeTheOthers   \n",
       "4       ABadCaseOfStripes   LabCoatOfScienceAndMedicine   \n",
       "...                   ...                           ...   \n",
       "685045      ZuleikaDobson              YouCantFightFate   \n",
       "685046      ZuleikaDobson                     KillEmAll   \n",
       "685047      ZuleikaDobson               SeriousBusiness   \n",
       "685048      ZuleikaDobson                   FemmeFatale   \n",
       "685049      ZuleikaDobson          SoBeautifulItsACurse   \n",
       "\n",
       "                                                  Example trope_id  title_id  \n",
       "0        Lima beans:\\n On The Simpsons, when Marge is ...   t21535      lit0  \n",
       "1        A Bad Case Of Stripes focuses on a girl named...   t27289      lit0  \n",
       "2        A Bad Case Of Stripes focuses on a girl named...   t28603      lit0  \n",
       "3        In A Bad Case Of Stripes, the Specialists det...   t28668      lit0  \n",
       "4        In A Bad Case Of Stripes, the five doctors al...   t29826      lit0  \n",
       "...                                                   ...      ...       ...  \n",
       "685045   By the time the Duke thinks better of his pla...   t26457  lit15494  \n",
       "685046        Every single undergraduate in Oxford, dead.   t12334  lit15494  \n",
       "685047   Drowning yourself for love of a  Femme Fatale...   t19895  lit15494  \n",
       "685048   The title character of Max Beerbohm's Black C...   t07883  lit15494  \n",
       "685049   Zuleika has never loved, because she cannot l...   t20764  lit15494  \n",
       "\n",
       "[679618 rows x 5 columns]"
      ]
     },
     "execution_count": 17,
     "metadata": {},
     "output_type": "execute_result"
    }
   ],
   "source": [
    "lit_df"
   ]
  },
  {
   "cell_type": "code",
   "execution_count": 18,
   "id": "59069c71-0416-45a4-8d37-d939698f157d",
   "metadata": {},
   "outputs": [],
   "source": [
    "# get the most frequent trope ids in both dfs\n",
    "# choose a subset from that to query LLaMA"
   ]
  },
  {
   "cell_type": "code",
   "execution_count": 19,
   "id": "e883a12a-e297-4041-b938-5a55688e7337",
   "metadata": {},
   "outputs": [
    {
     "data": {
      "text/plain": [
       "t20214    1431\n",
       "t13853    1103\n",
       "t29575    1058\n",
       "t02187     953\n",
       "t02336     788\n",
       "          ... \n",
       "t22985     122\n",
       "t05858     122\n",
       "t01931     122\n",
       "t17941     122\n",
       "t08657     122\n",
       "Name: trope_id, Length: 750, dtype: int64"
      ]
     },
     "execution_count": 19,
     "metadata": {},
     "output_type": "execute_result"
    }
   ],
   "source": [
    "lit_df['trope_id'].value_counts().nlargest(750)"
   ]
  },
  {
   "cell_type": "code",
   "execution_count": 20,
   "id": "b433e995-abe8-42fb-9f8d-37f86be6a402",
   "metadata": {},
   "outputs": [
    {
     "data": {
      "text/plain": [
       "t20214    688\n",
       "t13853    643\n",
       "t29575    557\n",
       "t03644    467\n",
       "t02336    462\n",
       "         ... \n",
       "t12458     64\n",
       "t12691     64\n",
       "t03737     64\n",
       "t08111     64\n",
       "t08657     64\n",
       "Name: trope_id, Length: 750, dtype: int64"
      ]
     },
     "execution_count": 20,
     "metadata": {},
     "output_type": "execute_result"
    }
   ],
   "source": [
    "goodreads_df['trope_id'].value_counts().nlargest(750)"
   ]
  },
  {
   "cell_type": "code",
   "execution_count": 60,
   "id": "f23ff8bc-98d7-47f1-b983-977deadacd8c",
   "metadata": {},
   "outputs": [],
   "source": [
    "common_tropes = set(lit_df['trope_id'].value_counts().nlargest(462).index.tolist()) & set(goodreads_df['trope_id'].value_counts().nlargest(462).index.tolist())"
   ]
  },
  {
   "cell_type": "code",
   "execution_count": 61,
   "id": "a4fc6539-de63-4350-9465-db2d009dcb2d",
   "metadata": {},
   "outputs": [],
   "source": [
    "# s1 = lit_df['trope_id'].value_counts().nlargest(50).index.tolist()\n",
    "# s2 = goodreads_df['trope_id'].value_counts().nlargest(50).index.tolist()\n",
    "# s1[s1.isin(s2)]"
   ]
  },
  {
   "cell_type": "code",
   "execution_count": 62,
   "id": "ee75f975-e488-447f-89d9-2b7e9a7b39d2",
   "metadata": {},
   "outputs": [
    {
     "data": {
      "text/plain": [
       "400"
      ]
     },
     "execution_count": 62,
     "metadata": {},
     "output_type": "execute_result"
    }
   ],
   "source": [
    "len(list(common_tropes))"
   ]
  },
  {
   "cell_type": "code",
   "execution_count": 22,
   "id": "e5f7aff0-78ca-4a6e-adea-664771717ea2",
   "metadata": {},
   "outputs": [
    {
     "data": {
      "text/plain": [
       "t04206    1\n",
       "t20547    1\n",
       "t10877    1\n",
       "t30329    1\n",
       "t21088    1\n",
       "t09165    1\n",
       "t28401    1\n",
       "t25400    1\n",
       "t07807    1\n",
       "t25170    1\n",
       "t08541    1\n",
       "t16307    1\n",
       "t13284    1\n",
       "t08446    1\n",
       "t14063    1\n",
       "t02998    1\n",
       "t07943    1\n",
       "t21137    1\n",
       "t23918    1\n",
       "t30343    1\n",
       "t13948    1\n",
       "t11795    1\n",
       "t20096    1\n",
       "t02969    1\n",
       "t27802    1\n",
       "t02603    1\n",
       "t23333    1\n",
       "t23917    1\n",
       "t23583    1\n",
       "t19219    1\n",
       "t20635    1\n",
       "t06723    1\n",
       "t07215    1\n",
       "t09211    1\n",
       "t18164    1\n",
       "t26123    1\n",
       "t18389    1\n",
       "t22190    1\n",
       "t21418    1\n",
       "t16395    1\n",
       "t19631    1\n",
       "t30719    1\n",
       "t05166    1\n",
       "t23024    1\n",
       "t17251    1\n",
       "t16200    1\n",
       "t12276    1\n",
       "t04110    1\n",
       "t15877    1\n",
       "t22116    1\n",
       "Name: trope_id, dtype: int64"
      ]
     },
     "execution_count": 22,
     "metadata": {},
     "output_type": "execute_result"
    }
   ],
   "source": [
    "lit_df['trope_id'].value_counts().nsmallest(50)"
   ]
  },
  {
   "cell_type": "code",
   "execution_count": 23,
   "id": "7f85562f-7601-409f-8132-3befd650f544",
   "metadata": {},
   "outputs": [
    {
     "data": {
      "text/plain": [
       "t21404    1\n",
       "t11195    1\n",
       "t18515    1\n",
       "t28631    1\n",
       "t15160    1\n",
       "t02140    1\n",
       "t13039    1\n",
       "t03108    1\n",
       "t28489    1\n",
       "t20284    1\n",
       "t12611    1\n",
       "t10026    1\n",
       "t27678    1\n",
       "t01132    1\n",
       "t21542    1\n",
       "t13028    1\n",
       "t02081    1\n",
       "t10498    1\n",
       "t10566    1\n",
       "t05579    1\n",
       "t25583    1\n",
       "t30634    1\n",
       "t25788    1\n",
       "t22017    1\n",
       "t30282    1\n",
       "t03157    1\n",
       "t08880    1\n",
       "t28838    1\n",
       "t16279    1\n",
       "t22589    1\n",
       "t09950    1\n",
       "t13040    1\n",
       "t27586    1\n",
       "t18006    1\n",
       "t23782    1\n",
       "t03551    1\n",
       "t14920    1\n",
       "t17093    1\n",
       "t15459    1\n",
       "t01116    1\n",
       "t11684    1\n",
       "t15200    1\n",
       "t26369    1\n",
       "t17749    1\n",
       "t08707    1\n",
       "t08688    1\n",
       "t08755    1\n",
       "t16911    1\n",
       "t12735    1\n",
       "t30759    1\n",
       "Name: trope_id, dtype: int64"
      ]
     },
     "execution_count": 23,
     "metadata": {},
     "output_type": "execute_result"
    }
   ],
   "source": [
    "goodreads_df['trope_id'].value_counts().nsmallest(50)"
   ]
  },
  {
   "cell_type": "code",
   "execution_count": 69,
   "id": "09fc18aa-c175-4578-a9a8-d22e65858db7",
   "metadata": {},
   "outputs": [
    {
     "data": {
      "text/plain": [
       "t05412    27\n",
       "t02925    27\n",
       "t26803    27\n",
       "t09608    27\n",
       "t00499    27\n",
       "t22113    27\n",
       "t26216    27\n",
       "t06512    27\n",
       "t23491    27\n",
       "t24005    27\n",
       "t30000    27\n",
       "t23221    27\n",
       "t13668    27\n",
       "t14852    27\n",
       "t26326    27\n",
       "t09074    27\n",
       "t30487    27\n",
       "t28705    27\n",
       "t05730    27\n",
       "t26889    27\n",
       "t14739    27\n",
       "t19267    27\n",
       "t24870    28\n",
       "t02654    28\n",
       "t24584    28\n",
       "t17690    28\n",
       "t13615    28\n",
       "t27591    28\n",
       "t03861    28\n",
       "t21533    28\n",
       "t04128    28\n",
       "t07156    28\n",
       "t01213    28\n",
       "t06857    28\n",
       "t22111    28\n",
       "t28332    28\n",
       "t21776    28\n",
       "t23309    28\n",
       "t24860    28\n",
       "t20743    28\n",
       "t09177    28\n",
       "t12269    28\n",
       "t15405    28\n",
       "t28656    28\n",
       "t28470    28\n",
       "t10868    28\n",
       "t03973    28\n",
       "t28573    28\n",
       "t07437    28\n",
       "t06016    28\n",
       "t00510    28\n",
       "Name: trope_id, dtype: int64"
      ]
     },
     "execution_count": 69,
     "metadata": {},
     "output_type": "execute_result"
    }
   ],
   "source": [
    "lit_df['trope_id'].value_counts().sort_values(ascending=True).head(20000).tail(51) #get the last 6 from above"
   ]
  },
  {
   "cell_type": "code",
   "execution_count": 25,
   "id": "43a9aeec-82be-42ff-83c0-d480f73630e4",
   "metadata": {},
   "outputs": [
    {
     "data": {
      "text/plain": [
       "t23253    20\n",
       "t18160    20\n",
       "t28820    20\n",
       "t09746    20\n",
       "t28281    20\n",
       "t15955    20\n",
       "Name: trope_id, dtype: int64"
      ]
     },
     "execution_count": 25,
     "metadata": {},
     "output_type": "execute_result"
    }
   ],
   "source": [
    "goodreads_df['trope_id'].value_counts().sort_values(ascending=True).head(20000).tail(6)"
   ]
  },
  {
   "cell_type": "code",
   "execution_count": 40,
   "id": "bed94e88-214f-4a1e-99fd-41bdf520dca2",
   "metadata": {},
   "outputs": [
    {
     "data": {
      "text/plain": [
       "set"
      ]
     },
     "execution_count": 40,
     "metadata": {},
     "output_type": "execute_result"
    }
   ],
   "source": [
    "type(common_tropes)"
   ]
  },
  {
   "cell_type": "code",
   "execution_count": 70,
   "id": "34abd1d8-9ac5-4f52-a672-49adea768da9",
   "metadata": {},
   "outputs": [],
   "source": [
    "less_common_tropes = set(lit_df['trope_id'].value_counts().sort_values(ascending=True).head(20000).tail(51).index.tolist())"
   ]
  },
  {
   "cell_type": "code",
   "execution_count": 71,
   "id": "377f4a02-7fdb-4d1f-86c8-3d3605808890",
   "metadata": {},
   "outputs": [
    {
     "data": {
      "text/plain": [
       "{'t00499',\n",
       " 't00510',\n",
       " 't00522',\n",
       " 't00974',\n",
       " 't01213',\n",
       " 't01342',\n",
       " 't01885',\n",
       " 't02003',\n",
       " 't02654',\n",
       " 't02925',\n",
       " 't03687',\n",
       " 't03861',\n",
       " 't03973',\n",
       " 't04128',\n",
       " 't05412',\n",
       " 't05730',\n",
       " 't06016',\n",
       " 't06490',\n",
       " 't06512',\n",
       " 't06811',\n",
       " 't06857',\n",
       " 't07151',\n",
       " 't07156',\n",
       " 't07437',\n",
       " 't07474',\n",
       " 't08047',\n",
       " 't08350',\n",
       " 't08765',\n",
       " 't09074',\n",
       " 't09177',\n",
       " 't09608',\n",
       " 't09746',\n",
       " 't09987',\n",
       " 't10066',\n",
       " 't10596',\n",
       " 't10868',\n",
       " 't11481',\n",
       " 't11802',\n",
       " 't12269',\n",
       " 't12751',\n",
       " 't12818',\n",
       " 't13458',\n",
       " 't13615',\n",
       " 't13668',\n",
       " 't14739',\n",
       " 't14852',\n",
       " 't15405',\n",
       " 't15494',\n",
       " 't15955',\n",
       " 't16009',\n",
       " 't17675',\n",
       " 't17690',\n",
       " 't18160',\n",
       " 't18448',\n",
       " 't18574',\n",
       " 't18589',\n",
       " 't18665',\n",
       " 't19267',\n",
       " 't20374',\n",
       " 't20743',\n",
       " 't21293',\n",
       " 't21384',\n",
       " 't21533',\n",
       " 't21776',\n",
       " 't21795',\n",
       " 't22111',\n",
       " 't22113',\n",
       " 't22938',\n",
       " 't23221',\n",
       " 't23253',\n",
       " 't23309',\n",
       " 't23491',\n",
       " 't24005',\n",
       " 't24251',\n",
       " 't24584',\n",
       " 't24860',\n",
       " 't24870',\n",
       " 't26182',\n",
       " 't26216',\n",
       " 't26324',\n",
       " 't26326',\n",
       " 't26375',\n",
       " 't26803',\n",
       " 't26889',\n",
       " 't27188',\n",
       " 't27277',\n",
       " 't27331',\n",
       " 't27591',\n",
       " 't27746',\n",
       " 't27763',\n",
       " 't28281',\n",
       " 't28332',\n",
       " 't28470',\n",
       " 't28573',\n",
       " 't28656',\n",
       " 't28705',\n",
       " 't28820',\n",
       " 't30000',\n",
       " 't30220',\n",
       " 't30487'}"
      ]
     },
     "execution_count": 71,
     "metadata": {},
     "output_type": "execute_result"
    }
   ],
   "source": [
    "less_common_tropes.update(tuple(goodreads_df['trope_id'].value_counts().sort_values(ascending=True).head(20000).tail(51).index.tolist()))\n",
    "less_common_tropes"
   ]
  },
  {
   "cell_type": "code",
   "execution_count": 72,
   "id": "7f3a8f68-b5b0-4f46-803f-fa6ee3c81a35",
   "metadata": {},
   "outputs": [],
   "source": [
    "tropes = common_tropes.union(less_common_tropes)"
   ]
  },
  {
   "cell_type": "code",
   "execution_count": 73,
   "id": "68f91b5e-c8fa-43c8-a418-d351a14cea0b",
   "metadata": {},
   "outputs": [
    {
     "data": {
      "text/plain": [
       "500"
      ]
     },
     "execution_count": 73,
     "metadata": {},
     "output_type": "execute_result"
    }
   ],
   "source": [
    "len(list(tropes))"
   ]
  },
  {
   "cell_type": "code",
   "execution_count": 74,
   "id": "9af90a4d-2841-4cfb-b1a9-02c455ad9b57",
   "metadata": {},
   "outputs": [
    {
     "data": {
      "text/plain": [
       "False    30484\n",
       "True       500\n",
       "Name: TropeID, dtype: int64"
      ]
     },
     "execution_count": 74,
     "metadata": {},
     "output_type": "execute_result"
    }
   ],
   "source": [
    "tropes_raw['TropeID'].isin(tropes).value_counts()"
   ]
  },
  {
   "cell_type": "code",
   "execution_count": 79,
   "id": "9bb3b800-f045-4241-af83-0b1369f7d890",
   "metadata": {},
   "outputs": [],
   "source": [
    "tropes_raw[tropes_raw['TropeID'].isin(tropes)].to_csv('my_tropes.csv', index=False, index_label=\"TropeID\")"
   ]
  },
  {
   "cell_type": "code",
   "execution_count": 76,
   "id": "7c250abb-be6f-4549-bc7a-565ec8befb5c",
   "metadata": {},
   "outputs": [
    {
     "data": {
      "text/html": [
       "<div>\n",
       "<style scoped>\n",
       "    .dataframe tbody tr th:only-of-type {\n",
       "        vertical-align: middle;\n",
       "    }\n",
       "\n",
       "    .dataframe tbody tr th {\n",
       "        vertical-align: top;\n",
       "    }\n",
       "\n",
       "    .dataframe thead th {\n",
       "        text-align: right;\n",
       "    }\n",
       "</style>\n",
       "<table border=\"1\" class=\"dataframe\">\n",
       "  <thead>\n",
       "    <tr style=\"text-align: right;\">\n",
       "      <th></th>\n",
       "      <th>TropeID</th>\n",
       "      <th>Trope</th>\n",
       "      <th>Description</th>\n",
       "    </tr>\n",
       "  </thead>\n",
       "  <tbody>\n",
       "    <tr>\n",
       "      <th>78</th>\n",
       "      <td>t00079</td>\n",
       "      <td>AbusiveParents</td>\n",
       "      <td>Parents are supposed to be the protectors of c...</td>\n",
       "    </tr>\n",
       "    <tr>\n",
       "      <th>189</th>\n",
       "      <td>t00190</td>\n",
       "      <td>ActionGirl</td>\n",
       "      <td>An Action Girl is a female badass who is tough...</td>\n",
       "    </tr>\n",
       "    <tr>\n",
       "      <th>262</th>\n",
       "      <td>t00263</td>\n",
       "      <td>AdaptationDistillation</td>\n",
       "      <td>Some adaptations take a complex character or s...</td>\n",
       "    </tr>\n",
       "    <tr>\n",
       "      <th>264</th>\n",
       "      <td>t00265</td>\n",
       "      <td>AdaptationExpansion</td>\n",
       "      <td>This is the complete opposite of Compressed Ad...</td>\n",
       "    </tr>\n",
       "    <tr>\n",
       "      <th>269</th>\n",
       "      <td>t00270</td>\n",
       "      <td>AdaptationNameChange</td>\n",
       "      <td>Alice Andrews in the books becomes Alice Allen...</td>\n",
       "    </tr>\n",
       "    <tr>\n",
       "      <th>...</th>\n",
       "      <td>...</td>\n",
       "      <td>...</td>\n",
       "      <td>...</td>\n",
       "    </tr>\n",
       "    <tr>\n",
       "      <th>29999</th>\n",
       "      <td>t30000</td>\n",
       "      <td>Redshirts</td>\n",
       "      <td>This is the Good Counterpart of Evil Minions a...</td>\n",
       "    </tr>\n",
       "    <tr>\n",
       "      <th>30219</th>\n",
       "      <td>t30220</td>\n",
       "      <td>Bioaugmentation</td>\n",
       "      <td>The biological counterpart to Cyborging: inste...</td>\n",
       "    </tr>\n",
       "    <tr>\n",
       "      <th>30285</th>\n",
       "      <td>t30286</td>\n",
       "      <td>XenoFiction</td>\n",
       "      <td>A few works of Science Fiction and Fantasy (an...</td>\n",
       "    </tr>\n",
       "    <tr>\n",
       "      <th>30469</th>\n",
       "      <td>t30470</td>\n",
       "      <td>RecountedByTheMainCharacters</td>\n",
       "      <td>Sometimes, \"this is a true story\" is part of t...</td>\n",
       "    </tr>\n",
       "    <tr>\n",
       "      <th>30486</th>\n",
       "      <td>t30487</td>\n",
       "      <td>DarkSkinnedRedHead</td>\n",
       "      <td>Like most character design decisions in anime,...</td>\n",
       "    </tr>\n",
       "  </tbody>\n",
       "</table>\n",
       "<p>500 rows × 3 columns</p>\n",
       "</div>"
      ],
      "text/plain": [
       "      TropeID                         Trope  \\\n",
       "78     t00079                AbusiveParents   \n",
       "189    t00190                    ActionGirl   \n",
       "262    t00263        AdaptationDistillation   \n",
       "264    t00265           AdaptationExpansion   \n",
       "269    t00270          AdaptationNameChange   \n",
       "...       ...                           ...   \n",
       "29999  t30000                     Redshirts   \n",
       "30219  t30220               Bioaugmentation   \n",
       "30285  t30286                   XenoFiction   \n",
       "30469  t30470  RecountedByTheMainCharacters   \n",
       "30486  t30487            DarkSkinnedRedHead   \n",
       "\n",
       "                                             Description  \n",
       "78     Parents are supposed to be the protectors of c...  \n",
       "189    An Action Girl is a female badass who is tough...  \n",
       "262    Some adaptations take a complex character or s...  \n",
       "264    This is the complete opposite of Compressed Ad...  \n",
       "269    Alice Andrews in the books becomes Alice Allen...  \n",
       "...                                                  ...  \n",
       "29999  This is the Good Counterpart of Evil Minions a...  \n",
       "30219  The biological counterpart to Cyborging: inste...  \n",
       "30285  A few works of Science Fiction and Fantasy (an...  \n",
       "30469  Sometimes, \"this is a true story\" is part of t...  \n",
       "30486  Like most character design decisions in anime,...  \n",
       "\n",
       "[500 rows x 3 columns]"
      ]
     },
     "execution_count": 76,
     "metadata": {},
     "output_type": "execute_result"
    }
   ],
   "source": [
    "tropes_raw[tropes_raw['TropeID'].isin(tropes)]"
   ]
  },
  {
   "cell_type": "code",
   "execution_count": null,
   "id": "5fe624ed-8647-430d-92a8-c35332e492f4",
   "metadata": {},
   "outputs": [],
   "source": []
  }
 ],
 "metadata": {
  "kernelspec": {
   "display_name": "Python 3 (ipykernel)",
   "language": "python",
   "name": "python3"
  },
  "language_info": {
   "codemirror_mode": {
    "name": "ipython",
    "version": 3
   },
   "file_extension": ".py",
   "mimetype": "text/x-python",
   "name": "python",
   "nbconvert_exporter": "python",
   "pygments_lexer": "ipython3",
   "version": "3.9.13"
  }
 },
 "nbformat": 4,
 "nbformat_minor": 5
}
