{
 "cells": [
  {
   "cell_type": "code",
   "execution_count": 1,
   "id": "7fc9ae11-6f84-4ed6-987f-9e6ca6ad78ec",
   "metadata": {},
   "outputs": [],
   "source": [
    "# trope description and examples dataset maker"
   ]
  },
  {
   "cell_type": "code",
   "execution_count": 2,
   "id": "c3d40ab1-392b-4633-b234-cc12e5bfbe43",
   "metadata": {},
   "outputs": [],
   "source": [
    "# get list of tropes"
   ]
  },
  {
   "cell_type": "code",
   "execution_count": 3,
   "id": "420b0e56-e791-423a-92c7-928ffe25d8bb",
   "metadata": {},
   "outputs": [],
   "source": [
    "# get examples of those tropes from datafiles you have"
   ]
  },
  {
   "cell_type": "code",
   "execution_count": null,
   "id": "334aa167-3458-42f1-9cf0-d368bcce9792",
   "metadata": {},
   "outputs": [],
   "source": []
  }
 ],
 "metadata": {
  "kernelspec": {
   "display_name": "Python 3 (ipykernel)",
   "language": "python",
   "name": "python3"
  },
  "language_info": {
   "codemirror_mode": {
    "name": "ipython",
    "version": 3
   },
   "file_extension": ".py",
   "mimetype": "text/x-python",
   "name": "python",
   "nbconvert_exporter": "python",
   "pygments_lexer": "ipython3",
   "version": "3.9.13"
  }
 },
 "nbformat": 4,
 "nbformat_minor": 5
}
