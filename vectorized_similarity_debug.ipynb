{
 "cells": [
  {
   "cell_type": "code",
   "execution_count": 33,
   "id": "d40b0970-7ad5-4b90-8d58-843a93056ba0",
   "metadata": {},
   "outputs": [],
   "source": [
    "import tensorflow_hub as hub\n",
    "import tensorflow as tf\n",
    "from numpy import dot\n",
    "from numpy.linalg import norm\n",
    "# import os\n",
    "# encoder = hub.load('https://tfhub.dev/google/universal-sentence-encoder/4')\n",
    "# Load the model\n",
    "model_path = \"universal-sentence-encoder-large_5\"\n",
    "encoder = hub.load(model_path)\n",
    "\n",
    "\n",
    "def embed(input):\n",
    "    embedding = encoder([input])\n",
    "    return embedding\n",
    "    # return tf.reshape(embedding, [-1])\n",
    "    # return embedding"
   ]
  },
  {
   "cell_type": "code",
   "execution_count": 34,
   "id": "fb22732f-d247-4794-af59-fa593ec39434",
   "metadata": {},
   "outputs": [
    {
     "name": "stdout",
     "output_type": "stream",
     "text": [
      "read csvs\n"
     ]
    }
   ],
   "source": [
    "import pandas as pd\n",
    "import numpy as np\n",
    "from tqdm import tqdm\n",
    "tqdm.pandas()\n",
    "# from get_vector import embed, get_similarity\n",
    "import scipy.spatial\n",
    "import tensorflow as tf\n",
    "stories = pd.read_csv('stories_with_summary.csv')\n",
    "trope_examples = pd.read_csv('trope_examples.csv')\n",
    "trope_examples = trope_examples.dropna()\n",
    "print(\"read csvs\")"
   ]
  },
  {
   "cell_type": "code",
   "execution_count": 35,
   "id": "ceda006a-7c6e-43db-b6df-89e474811fc3",
   "metadata": {},
   "outputs": [],
   "source": [
    "trope_examples_df = trope_examples[:10]"
   ]
  },
  {
   "cell_type": "code",
   "execution_count": 36,
   "id": "cd56cbdf-9df0-404f-be53-243cd70b2fdc",
   "metadata": {},
   "outputs": [
    {
     "data": {
      "text/html": [
       "<div>\n",
       "<style scoped>\n",
       "    .dataframe tbody tr th:only-of-type {\n",
       "        vertical-align: middle;\n",
       "    }\n",
       "\n",
       "    .dataframe tbody tr th {\n",
       "        vertical-align: top;\n",
       "    }\n",
       "\n",
       "    .dataframe thead th {\n",
       "        text-align: right;\n",
       "    }\n",
       "</style>\n",
       "<table border=\"1\" class=\"dataframe\">\n",
       "  <thead>\n",
       "    <tr style=\"text-align: right;\">\n",
       "      <th></th>\n",
       "      <th>Example</th>\n",
       "      <th>trope_id</th>\n",
       "      <th>example_type</th>\n",
       "    </tr>\n",
       "  </thead>\n",
       "  <tbody>\n",
       "    <tr>\n",
       "      <th>0</th>\n",
       "      <td>In A Bad Day For Voodoo,  Esmeralda, the maker...</td>\n",
       "      <td>t22727</td>\n",
       "      <td>lit</td>\n",
       "    </tr>\n",
       "    <tr>\n",
       "      <th>1</th>\n",
       "      <td>When Tyler tries to   chase after his stolen c...</td>\n",
       "      <td>t01294</td>\n",
       "      <td>lit</td>\n",
       "    </tr>\n",
       "    <tr>\n",
       "      <th>2</th>\n",
       "      <td>Esmeralda, the maker of the voodoo dolls, expl...</td>\n",
       "      <td>t22727</td>\n",
       "      <td>lit</td>\n",
       "    </tr>\n",
       "    <tr>\n",
       "      <th>3</th>\n",
       "      <td>Tyler is the protagonist, and always tries to ...</td>\n",
       "      <td>t01080</td>\n",
       "      <td>lit</td>\n",
       "    </tr>\n",
       "    <tr>\n",
       "      <th>4</th>\n",
       "      <td>Esmeralda the doll-maker tells  Tyler  and  Ke...</td>\n",
       "      <td>t25818</td>\n",
       "      <td>lit</td>\n",
       "    </tr>\n",
       "    <tr>\n",
       "      <th>5</th>\n",
       "      <td>Defied. Tyler assures the reader that he is te...</td>\n",
       "      <td>t24933</td>\n",
       "      <td>lit</td>\n",
       "    </tr>\n",
       "    <tr>\n",
       "      <th>6</th>\n",
       "      <td>After Adam gets a voodoo doll made of Tyler to...</td>\n",
       "      <td>t08393</td>\n",
       "      <td>lit</td>\n",
       "    </tr>\n",
       "    <tr>\n",
       "      <th>7</th>\n",
       "      <td>Implied. As pagan gods are in truth, the disem...</td>\n",
       "      <td>t00608</td>\n",
       "      <td>lit</td>\n",
       "    </tr>\n",
       "    <tr>\n",
       "      <th>8</th>\n",
       "      <td>Casper was so nicknamed after the ghost. He's ...</td>\n",
       "      <td>t13853</td>\n",
       "      <td>lit</td>\n",
       "    </tr>\n",
       "    <tr>\n",
       "      <th>9</th>\n",
       "      <td>Simon Darcourt is named after a character in C...</td>\n",
       "      <td>t20214</td>\n",
       "      <td>lit</td>\n",
       "    </tr>\n",
       "  </tbody>\n",
       "</table>\n",
       "</div>"
      ],
      "text/plain": [
       "                                             Example trope_id example_type\n",
       "0  In A Bad Day For Voodoo,  Esmeralda, the maker...   t22727          lit\n",
       "1  When Tyler tries to   chase after his stolen c...   t01294          lit\n",
       "2  Esmeralda, the maker of the voodoo dolls, expl...   t22727          lit\n",
       "3  Tyler is the protagonist, and always tries to ...   t01080          lit\n",
       "4  Esmeralda the doll-maker tells  Tyler  and  Ke...   t25818          lit\n",
       "5  Defied. Tyler assures the reader that he is te...   t24933          lit\n",
       "6  After Adam gets a voodoo doll made of Tyler to...   t08393          lit\n",
       "7  Implied. As pagan gods are in truth, the disem...   t00608          lit\n",
       "8  Casper was so nicknamed after the ghost. He's ...   t13853          lit\n",
       "9  Simon Darcourt is named after a character in C...   t20214          lit"
      ]
     },
     "execution_count": 36,
     "metadata": {},
     "output_type": "execute_result"
    }
   ],
   "source": [
    "trope_examples_df"
   ]
  },
  {
   "cell_type": "code",
   "execution_count": 37,
   "id": "d16fcad2-917c-438d-bd07-f79bf9f95c71",
   "metadata": {},
   "outputs": [],
   "source": [
    "trope_examples = trope_examples_df['Example'][:10].tolist()"
   ]
  },
  {
   "cell_type": "code",
   "execution_count": 38,
   "id": "ec7ebd08-220c-47a2-832e-b0db0125860b",
   "metadata": {},
   "outputs": [
    {
     "data": {
      "text/plain": [
       "['In A Bad Day For Voodoo,  Esmeralda, the maker of the voodoo dolls, explains to Tyler and Kelley that Adam is this, and will one day defeat the hobgoblins. When Kelley questions this, she explains that only the chosen one could have made the voodoo dolls so powerful.',\n",
       " 'When Tyler tries to   chase after his stolen car which has the voodoo doll of himself in it , he curses  \"S-word, f-word, s-word, d-word, s-word times three, f-word, and a z-word that [he] made up on the spot\".',\n",
       " 'Esmeralda, the maker of the voodoo dolls, explains to  Tyler  and  Kelley  that  Adam  is this, and will one day defeat the hobgoblins. When Kelley questions this, she explains that only the chosen one could have made the voodoo dolls so powerful.',\n",
       " 'Tyler is the protagonist, and always tries to do the right thing, but states to the reader that he is definitely not a role model.',\n",
       " 'Esmeralda the doll-maker tells  Tyler  and  Kelley ,  \"[ Adam ] add to power of doll. Make it super-magical. He  Chosen One .\", revealing that  Adam  of all people is  The Chosen One . .',\n",
       " 'Defied. Tyler assures the reader that he is telling the complete truth.',\n",
       " \"After Adam gets a voodoo doll made of Tyler to ensure that he won't tell the cops about the voodoo doll of Adam got made of  Mr. Click , Tyler asks him how he paid for another one when they cost 80 dollars, since Adam was out of money. Adam doesn't answer.   As it turns out, Esmeralda the doll-maker made the doll for free because Adam is  The Chosen One .\",\n",
       " 'Implied. As pagan gods are in truth, the disembodied spirits of great heroes and figures who were recognized as gods after their deaths and grew more powerful with the energy of the prayers they received',\n",
       " \"Casper was so nicknamed after the ghost. He's practically invisible to his classmates.\",\n",
       " 'Simon Darcourt is named after a character in Canadian author Robertson Davies\\'  Cornish trilogy  - though he does not resemble him much. At all. In any way. Advertisement  propertag.cmd.push(function() { proper_display(\\'tvtropes_mobile_ad_3\\'); })  International arms dealer Shaloub \"On a sunny day like this, however, you can call me Shub\" N\\'gurath is a  Quake  shout out—as well as the  Cthulhu Mythos .  Simon\\'s assumed name for his assignment, Gordon Freeman, is a shout out to  Half-Life , as is the name of the power station the climax takes place in, Dubh Ardrain, which is (roughly) the Scots Gaelic for Black Mesa.  Also  Half-Life , the SAS Captain is one Adrian Shepard.']"
      ]
     },
     "execution_count": 38,
     "metadata": {},
     "output_type": "execute_result"
    }
   ],
   "source": [
    "trope_examples"
   ]
  },
  {
   "cell_type": "code",
   "execution_count": 14,
   "id": "c80ce1dc-325d-4882-bb88-f65d3124765c",
   "metadata": {},
   "outputs": [
    {
     "data": {
      "text/plain": [
       "TensorShape([10, 512])"
      ]
     },
     "execution_count": 14,
     "metadata": {},
     "output_type": "execute_result"
    }
   ],
   "source": [
    "matrix = encoder(trope_examples)\n",
    "matrix.shape"
   ]
  },
  {
   "cell_type": "code",
   "execution_count": 39,
   "id": "a57aa2c2-b393-4502-b556-54652c0ad5f9",
   "metadata": {},
   "outputs": [
    {
     "name": "stdout",
     "output_type": "stream",
     "text": [
      "['In A Bad Day For Voodoo,  Esmeralda, the maker of the voodoo dolls, explains to Tyler and Kelley that Adam is this, and will one day defeat the hobgoblins. When Kelley questions this, she explains that only the chosen one could have made the voodoo dolls so powerful.', 'When Tyler tries to   chase after his stolen car which has the voodoo doll of himself in it , he curses  \"S-word, f-word, s-word, d-word, s-word times three, f-word, and a z-word that [he] made up on the spot\".', 'Esmeralda, the maker of the voodoo dolls, explains to  Tyler  and  Kelley  that  Adam  is this, and will one day defeat the hobgoblins. When Kelley questions this, she explains that only the chosen one could have made the voodoo dolls so powerful.', 'Tyler is the protagonist, and always tries to do the right thing, but states to the reader that he is definitely not a role model.']\n",
      "['Esmeralda the doll-maker tells  Tyler  and  Kelley ,  \"[ Adam ] add to power of doll. Make it super-magical. He  Chosen One .\", revealing that  Adam  of all people is  The Chosen One . .', 'Defied. Tyler assures the reader that he is telling the complete truth.', \"After Adam gets a voodoo doll made of Tyler to ensure that he won't tell the cops about the voodoo doll of Adam got made of  Mr. Click , Tyler asks him how he paid for another one when they cost 80 dollars, since Adam was out of money. Adam doesn't answer.   As it turns out, Esmeralda the doll-maker made the doll for free because Adam is  The Chosen One .\", 'Implied. As pagan gods are in truth, the disembodied spirits of great heroes and figures who were recognized as gods after their deaths and grew more powerful with the energy of the prayers they received']\n",
      "[\"Casper was so nicknamed after the ghost. He's practically invisible to his classmates.\", 'Simon Darcourt is named after a character in Canadian author Robertson Davies\\'  Cornish trilogy  - though he does not resemble him much. At all. In any way. Advertisement  propertag.cmd.push(function() { proper_display(\\'tvtropes_mobile_ad_3\\'); })  International arms dealer Shaloub \"On a sunny day like this, however, you can call me Shub\" N\\'gurath is a  Quake  shout out—as well as the  Cthulhu Mythos .  Simon\\'s assumed name for his assignment, Gordon Freeman, is a shout out to  Half-Life , as is the name of the power station the climax takes place in, Dubh Ardrain, which is (roughly) the Scots Gaelic for Black Mesa.  Also  Half-Life , the SAS Captain is one Adrian Shepard.']\n",
      "(10, 512)\n"
     ]
    }
   ],
   "source": [
    "# Initialize an empty list to store embedding matrices\n",
    "embedding_matrices = []\n",
    "batch_size = 4\n",
    "# Split the list of strings into batches\n",
    "for i in range(0, len(trope_examples), batch_size):\n",
    "    batch = trope_examples[i:i + batch_size]\n",
    "    print(batch)\n",
    "    # Encode the batch of strings\n",
    "    embeddings = encoder(batch)\n",
    "    \n",
    "    # Convert the embeddings to a NumPy array\n",
    "    embeddings = np.array(embeddings)\n",
    "    \n",
    "    # Append the batch's embeddings to the list\n",
    "    embedding_matrices.append(embeddings)\n",
    "\n",
    "# Combine the embedding matrices from all batches\n",
    "final_embeddings = np.concatenate(embedding_matrices, axis=0)\n",
    "print(final_embeddings.shape)"
   ]
  },
  {
   "cell_type": "code",
   "execution_count": 110,
   "id": "3b404389-f35e-4dd1-b8f1-ffb77ae27c0b",
   "metadata": {},
   "outputs": [],
   "source": [
    "# trope_examples['embed'] = trope_examples['Example'].progress_apply(embed)"
   ]
  },
  {
   "cell_type": "code",
   "execution_count": 111,
   "id": "ae74fa17-7f77-43fd-8ae5-478acb74b3b2",
   "metadata": {},
   "outputs": [],
   "source": [
    "# trope_examples['embed'][0]"
   ]
  },
  {
   "cell_type": "code",
   "execution_count": 112,
   "id": "3b70dbd2-21b0-4e84-a173-973ca3d820bf",
   "metadata": {},
   "outputs": [],
   "source": [
    "# tf.convert_to_tensor(trope_examples['embed'])"
   ]
  },
  {
   "cell_type": "code",
   "execution_count": 40,
   "id": "caac1d0e-383e-429c-a6d7-e0e724add447",
   "metadata": {},
   "outputs": [],
   "source": [
    "story = stories.iloc[1]\n",
    "story_embed = embed(story['story'])\n",
    "# story_embed = tf.reshape(story_embed, [-1])"
   ]
  },
  {
   "cell_type": "code",
   "execution_count": 41,
   "id": "264037e1-8565-46bd-b981-12857f33e6f5",
   "metadata": {},
   "outputs": [
    {
     "data": {
      "text/plain": [
       "<tf.Tensor: shape=(1, 512), dtype=float32, numpy=\n",
       "array([[ 9.98608302e-03,  1.00287668e-01, -4.64441404e-02,\n",
       "        -8.06814060e-02,  1.92088052e-03,  5.30225262e-02,\n",
       "        -3.28591652e-02, -4.25650552e-02, -5.15515469e-02,\n",
       "        -6.43923879e-02, -4.62142751e-02,  1.19410958e-02,\n",
       "         2.72512808e-02, -4.09274781e-03,  2.00058445e-02,\n",
       "        -1.53025687e-02,  9.02118310e-02, -1.98001005e-02,\n",
       "        -5.84989861e-02,  8.78998488e-02, -5.68961501e-02,\n",
       "        -4.02867682e-02, -3.49726677e-02,  3.04025803e-02,\n",
       "        -4.87671681e-02, -3.95010684e-05,  1.67070422e-02,\n",
       "         3.07626184e-02,  6.45898134e-02, -2.61449460e-02,\n",
       "        -2.98817623e-02, -2.15733312e-02, -1.68208173e-03,\n",
       "        -1.89029537e-02,  6.42244443e-02, -8.92820805e-02,\n",
       "        -4.34228294e-02, -6.09088689e-02, -1.89149268e-02,\n",
       "        -7.60356486e-02, -1.65849067e-02, -3.90428398e-03,\n",
       "         4.88775447e-02, -2.55911518e-02, -7.48986751e-02,\n",
       "         1.23752514e-02,  4.11232971e-02, -5.21686338e-02,\n",
       "        -1.27162049e-02,  2.74061784e-02, -5.99259809e-02,\n",
       "         2.42746025e-02,  4.51295078e-02,  3.88398468e-02,\n",
       "         5.65006100e-02, -1.99089181e-02,  1.20439688e-02,\n",
       "        -1.71144363e-02, -4.73469980e-02,  5.58315255e-02,\n",
       "        -1.08042084e-01, -5.39189465e-02,  1.04844607e-02,\n",
       "         1.28208511e-02, -5.13268560e-02,  2.27716248e-02,\n",
       "        -2.95141935e-02, -8.19291323e-02,  2.19752304e-02,\n",
       "         1.08913856e-03,  1.06819011e-02, -7.15806857e-02,\n",
       "        -4.14826833e-02, -4.11257334e-02,  7.70823434e-02,\n",
       "         2.79662665e-03,  1.65032297e-02,  4.06545922e-02,\n",
       "         5.50689884e-02,  3.10134850e-02, -4.45971116e-02,\n",
       "         2.72109173e-02,  5.21202572e-02, -7.31954398e-03,\n",
       "         4.77293693e-02,  1.66799575e-02,  6.11309148e-03,\n",
       "        -1.93461757e-02,  1.04488164e-01,  1.78697277e-02,\n",
       "         4.96380515e-02, -2.02868250e-03,  1.39711127e-02,\n",
       "         1.92496367e-02, -8.53654593e-02,  2.36086473e-02,\n",
       "        -1.78261977e-02,  3.04076727e-02, -2.69274246e-02,\n",
       "         2.61648726e-02,  1.71868764e-02, -5.65805584e-02,\n",
       "         3.60237584e-02, -1.40242884e-02,  2.21762713e-02,\n",
       "        -6.13289587e-02, -1.03895105e-02,  4.07611392e-03,\n",
       "        -5.13820685e-02, -5.35841426e-03, -4.26495969e-02,\n",
       "        -3.48394625e-02, -2.86063328e-02, -4.07156013e-02,\n",
       "         8.35099164e-03,  6.53866678e-02, -7.18424022e-02,\n",
       "        -9.22920834e-03, -3.48118283e-02,  4.04726230e-02,\n",
       "         6.25881180e-02, -7.38993660e-02,  5.03141731e-02,\n",
       "        -5.34241162e-02, -6.93663657e-02,  4.74227639e-03,\n",
       "         4.81955335e-02, -3.49817388e-02,  2.78296554e-03,\n",
       "        -1.24700721e-02,  8.48840456e-03, -4.36386466e-02,\n",
       "        -1.60575123e-03, -6.14543520e-02, -2.10813526e-02,\n",
       "        -5.68346381e-02, -1.67275965e-02,  4.54538800e-02,\n",
       "         5.69224283e-02, -2.18582749e-02, -4.07037772e-02,\n",
       "         9.61420685e-03, -2.25377567e-02,  4.67212461e-02,\n",
       "         2.08288692e-02, -5.28436191e-02, -3.74965556e-02,\n",
       "        -4.57681082e-02,  1.08492840e-02, -6.05383841e-03,\n",
       "        -7.88538754e-02,  1.50729958e-02, -2.90483609e-02,\n",
       "         4.76639234e-02, -3.77242193e-02,  3.03034149e-02,\n",
       "         4.01409939e-02, -1.98138375e-02,  2.08747424e-02,\n",
       "         1.59084657e-03, -2.58236825e-02,  4.51874174e-02,\n",
       "        -1.61794499e-02,  2.27205139e-02, -2.37397254e-02,\n",
       "         4.99011250e-03, -1.56874638e-02,  6.30236566e-02,\n",
       "        -6.57350384e-03,  6.72438443e-02,  6.99555799e-02,\n",
       "        -6.95437044e-02, -2.19463855e-02,  6.25757053e-02,\n",
       "         2.80923359e-02, -5.91283031e-02, -4.39036526e-02,\n",
       "        -7.29500502e-02,  1.64024718e-02,  6.63201138e-02,\n",
       "         2.67811380e-02, -3.87958698e-02, -7.39303455e-02,\n",
       "        -1.71339642e-02, -1.23789543e-02,  7.69951148e-03,\n",
       "         8.96117017e-02,  7.67822377e-03,  5.79771437e-02,\n",
       "        -1.68888904e-02,  4.37631160e-02,  3.54656726e-02,\n",
       "        -6.08678954e-03,  3.29248374e-03,  3.04729324e-02,\n",
       "         2.88534313e-02, -2.67524477e-02,  4.57343869e-02,\n",
       "        -1.24614307e-04,  3.63858975e-02,  2.04771552e-02,\n",
       "         1.06027417e-01,  7.60304183e-02,  5.04876114e-02,\n",
       "         4.39508371e-02, -3.51520479e-02,  5.96199259e-02,\n",
       "         3.44143435e-02, -3.33292969e-02, -2.82212105e-02,\n",
       "         4.41181101e-02,  1.23588191e-02, -3.11486460e-02,\n",
       "        -9.87316146e-02,  1.67455971e-02,  2.28034183e-02,\n",
       "        -9.91219953e-02, -2.31478154e-03, -4.05140370e-02,\n",
       "        -1.06681418e-02,  1.74486358e-02, -2.43115681e-03,\n",
       "         2.00651195e-02, -2.39197370e-02,  7.28848428e-02,\n",
       "        -3.10690403e-02, -1.02421120e-02,  1.36775151e-02,\n",
       "         4.40838560e-02,  9.26084537e-03,  3.17959674e-02,\n",
       "        -5.99902347e-02,  2.01268084e-02,  3.15476134e-02,\n",
       "        -4.35141847e-02, -2.70971805e-02, -8.39055516e-03,\n",
       "         1.05125504e-02,  5.91230532e-03,  6.02636263e-02,\n",
       "        -4.33719568e-02, -4.56079058e-02, -7.39242509e-02,\n",
       "        -1.49707459e-02, -5.30818850e-02, -2.25013029e-02,\n",
       "        -7.34215826e-02,  2.08375920e-02,  2.76318695e-02,\n",
       "        -4.26253341e-02, -1.87104549e-02, -9.47764292e-02,\n",
       "         3.47823128e-02, -2.36546919e-02,  2.62410454e-02,\n",
       "        -4.09422554e-02, -1.79727916e-02, -4.05524001e-02,\n",
       "        -1.02070905e-02, -3.70759480e-02, -5.36773866e-03,\n",
       "        -1.38660439e-03,  2.36273743e-02,  8.49366039e-02,\n",
       "        -7.48003945e-02,  2.60284618e-02, -6.30151778e-02,\n",
       "        -3.81424539e-02,  1.44757843e-02, -3.90690006e-02,\n",
       "        -1.42848995e-02, -4.10073884e-02,  5.66870964e-04,\n",
       "        -1.75293405e-02,  1.81520749e-02, -3.02719753e-02,\n",
       "         3.85654494e-02,  3.82514745e-02,  3.20403278e-02,\n",
       "         5.64321391e-02,  5.40598594e-02, -5.41626476e-03,\n",
       "        -6.56686500e-02,  7.08803758e-02, -8.99574487e-04,\n",
       "         4.68771830e-02,  2.40303110e-02,  5.58060892e-02,\n",
       "        -4.53110039e-02, -1.33213010e-02, -4.93846014e-02,\n",
       "         2.89351903e-02, -2.56072008e-03,  1.96914338e-02,\n",
       "         1.17144939e-02, -2.90417448e-02,  3.89619754e-03,\n",
       "         7.57624134e-02, -7.25452304e-02,  1.05807289e-01,\n",
       "        -2.90054269e-02,  2.16229707e-02, -1.05597824e-02,\n",
       "         4.90927417e-03, -2.12833472e-02,  4.29119468e-02,\n",
       "        -3.53163644e-03, -8.66970718e-02,  4.84345742e-02,\n",
       "         3.62119079e-02,  3.72213535e-02, -2.96175629e-02,\n",
       "         7.64112407e-03, -3.28595340e-02, -5.94838634e-02,\n",
       "         1.36076566e-02, -5.45107387e-02, -8.10324624e-02,\n",
       "        -6.33689109e-03,  3.17846499e-02, -1.20047880e-02,\n",
       "         1.02458149e-03, -5.44004515e-02, -1.74300522e-02,\n",
       "        -9.57087055e-03,  3.38407718e-02, -6.43574342e-04,\n",
       "         5.61271198e-02, -6.24674885e-03, -9.13094450e-03,\n",
       "        -3.74688208e-02, -3.88304070e-02,  5.93976956e-03,\n",
       "         6.50957227e-02,  1.76058877e-02,  2.71008462e-02,\n",
       "        -5.99617623e-02, -7.89443851e-02,  7.43561797e-03,\n",
       "         1.54028684e-02, -3.93334702e-02,  8.62910226e-02,\n",
       "         8.86618048e-02, -9.12563596e-03, -7.97279775e-02,\n",
       "        -4.80046049e-02,  4.68115956e-02,  2.32593436e-02,\n",
       "        -7.07487240e-02,  1.00806670e-03, -6.20525554e-02,\n",
       "        -1.33771179e-02,  1.92456692e-02,  4.79489602e-02,\n",
       "        -7.80780166e-02,  2.57486906e-02, -8.27141926e-02,\n",
       "         2.93885916e-02, -4.12440971e-02, -2.24434696e-02,\n",
       "        -4.16085124e-02, -2.44831052e-02,  3.05464081e-02,\n",
       "        -2.40879375e-02, -4.03973348e-02,  4.99267466e-02,\n",
       "         2.15281416e-02,  2.61365939e-02,  2.83056311e-02,\n",
       "         6.02086410e-02,  4.56703268e-02, -6.07545339e-02,\n",
       "        -6.81542158e-02,  3.60277481e-02, -2.43971311e-02,\n",
       "         5.91303296e-02,  5.02681034e-03, -1.08108103e-01,\n",
       "        -5.00696898e-03,  6.30024150e-02, -9.08657536e-02,\n",
       "        -3.53334099e-02, -2.70268135e-02,  2.34294645e-02,\n",
       "        -5.36845550e-02, -4.04258557e-02,  2.70299874e-02,\n",
       "        -5.86397350e-02, -8.95524956e-03,  1.64167732e-02,\n",
       "        -5.34555167e-02, -2.73708943e-02, -2.46523716e-03,\n",
       "        -3.79806608e-02,  8.17331523e-02, -2.27766819e-02,\n",
       "         7.07991794e-02,  8.91331583e-03,  8.70108022e-04,\n",
       "        -7.53580630e-02, -4.31053247e-03, -3.20858844e-02,\n",
       "        -6.97303489e-02, -2.28009168e-02,  2.96671391e-02,\n",
       "         5.38055934e-02,  1.84674151e-02,  3.55471135e-03,\n",
       "        -3.43448389e-03,  4.71116975e-02, -5.12423851e-02,\n",
       "        -3.68478405e-03,  9.38565731e-02, -3.23835872e-02,\n",
       "        -4.05685306e-02,  1.12946322e-02,  1.98643245e-02,\n",
       "        -1.76354330e-02,  4.95127514e-02, -1.43542429e-02,\n",
       "         6.16060272e-02,  2.64709741e-02,  8.93460140e-02,\n",
       "         3.74060795e-02,  3.77373323e-02, -1.81940719e-02,\n",
       "        -8.56376886e-02, -1.12880439e-01, -2.07104739e-02,\n",
       "         4.94708009e-02, -1.16478980e-01, -2.31127534e-02,\n",
       "        -1.77419893e-02, -5.99466488e-02, -7.28105754e-02,\n",
       "         2.40206886e-02, -2.14105519e-03, -1.04979360e-02,\n",
       "        -7.66077265e-03, -3.09434440e-02, -8.73323157e-02,\n",
       "        -1.41825136e-02,  3.38315894e-03, -1.95623771e-03,\n",
       "         3.10026314e-02,  4.34855884e-03, -2.82643009e-02,\n",
       "         2.31497642e-02, -3.53055932e-02,  7.55575374e-02,\n",
       "        -1.48509005e-02, -4.96166060e-03,  3.23008187e-02,\n",
       "         6.54024035e-02, -1.79803427e-02, -6.82761818e-02,\n",
       "         2.59704627e-02,  7.10444748e-02,  6.53213868e-03,\n",
       "        -6.27257377e-02, -3.66607979e-02,  4.71950695e-02,\n",
       "         8.87663290e-02,  1.69088542e-02, -8.87961537e-02,\n",
       "         3.20599936e-02,  2.04568021e-02,  1.18971197e-02,\n",
       "         7.37981945e-02, -4.47610812e-03, -4.24788184e-02,\n",
       "        -2.03666370e-02, -3.92759917e-03,  1.75247826e-02,\n",
       "        -5.87217733e-02,  5.02105849e-03,  2.85457466e-02,\n",
       "         2.96496302e-02, -4.07214239e-02, -2.92687062e-02,\n",
       "         8.94554239e-03,  4.18977700e-02, -5.92836142e-02,\n",
       "        -3.59731279e-02,  4.96373028e-02,  3.21107320e-02,\n",
       "         5.05086221e-02, -8.54656901e-05,  5.13217365e-03,\n",
       "        -3.00474670e-02, -8.64714980e-02, -1.19927982e-02,\n",
       "         1.03399260e-02, -4.20650393e-02, -2.72359326e-03,\n",
       "         2.11897064e-02,  4.24867235e-02,  5.23805851e-03,\n",
       "        -1.55126082e-03,  5.97058833e-02,  3.44419554e-02,\n",
       "        -8.92190710e-02,  2.36994028e-02,  4.78243157e-02,\n",
       "         2.13612599e-04,  5.94104826e-02, -3.69862653e-02,\n",
       "        -9.93684530e-02, -3.02836783e-02,  2.76273731e-02,\n",
       "        -4.60285358e-02, -1.10390652e-02]], dtype=float32)>"
      ]
     },
     "execution_count": 41,
     "metadata": {},
     "output_type": "execute_result"
    }
   ],
   "source": [
    "story_embed"
   ]
  },
  {
   "cell_type": "code",
   "execution_count": 42,
   "id": "090e463e-01dd-48ed-a8fe-6de9d42f0f4b",
   "metadata": {},
   "outputs": [
    {
     "data": {
      "text/plain": [
       "TensorShape([1, 512])"
      ]
     },
     "execution_count": 42,
     "metadata": {},
     "output_type": "execute_result"
    }
   ],
   "source": [
    "story_embed.shape"
   ]
  },
  {
   "cell_type": "code",
   "execution_count": 116,
   "id": "3546fd58-080a-4e63-b330-705ab19a9deb",
   "metadata": {},
   "outputs": [],
   "source": [
    "# trope_embed_matrix = trope_examples['embed'].to_numpy()"
   ]
  },
  {
   "cell_type": "code",
   "execution_count": 117,
   "id": "d2353dbc-e19a-4f85-99f1-d6707ca88bea",
   "metadata": {},
   "outputs": [],
   "source": [
    "# trope_embed_matrix.flatten().shape"
   ]
  },
  {
   "cell_type": "code",
   "execution_count": 118,
   "id": "0535215e-29e3-4473-bec4-7f1ffce0af47",
   "metadata": {},
   "outputs": [],
   "source": [
    "# trope_examples['embed'][0].shape"
   ]
  },
  {
   "cell_type": "code",
   "execution_count": 119,
   "id": "2ada45d1-8e3b-4fed-b868-64bd84038e09",
   "metadata": {},
   "outputs": [],
   "source": [
    "# trope_embed_matrix = trope_embed_matrix.reshape((2,1))\n",
    "# trope_embed_matrix.shape"
   ]
  },
  {
   "cell_type": "code",
   "execution_count": 43,
   "id": "e2d81245-5157-4295-89ad-9555ceb52c1c",
   "metadata": {},
   "outputs": [
    {
     "name": "stdout",
     "output_type": "stream",
     "text": [
      "(10, 512)\n",
      "(10, 10)\n",
      "[[ 0.12107358  0.12107358  0.12107358  0.12107358  0.12107358  0.12107358\n",
      "   0.12107358  0.12107358  0.12107358  0.12107358]\n",
      " [ 0.17093187  0.17093187  0.17093187  0.17093187  0.17093187  0.17093187\n",
      "   0.17093187  0.17093187  0.17093187  0.17093187]\n",
      " [ 0.11753389  0.11753389  0.11753389  0.11753389  0.11753389  0.11753389\n",
      "   0.11753389  0.11753389  0.11753389  0.11753389]\n",
      " [ 0.15298812  0.15298812  0.15298812  0.15298812  0.15298812  0.15298812\n",
      "   0.15298812  0.15298812  0.15298812  0.15298812]\n",
      " [ 0.09229994  0.09229994  0.09229994  0.09229994  0.09229994  0.09229994\n",
      "   0.09229994  0.09229994  0.09229994  0.09229994]\n",
      " [ 0.14185904  0.14185904  0.14185904  0.14185904  0.14185904  0.14185904\n",
      "   0.14185904  0.14185904  0.14185904  0.14185904]\n",
      " [ 0.17081197  0.17081197  0.17081197  0.17081197  0.17081197  0.17081197\n",
      "   0.17081197  0.17081197  0.17081197  0.17081197]\n",
      " [-0.0299184  -0.0299184  -0.0299184  -0.0299184  -0.0299184  -0.0299184\n",
      "  -0.0299184  -0.0299184  -0.0299184  -0.0299184 ]\n",
      " [ 0.01704192  0.01704192  0.01704192  0.01704192  0.01704192  0.01704192\n",
      "   0.01704192  0.01704192  0.01704192  0.01704192]\n",
      " [ 0.0598826   0.0598826   0.0598826   0.0598826   0.0598826   0.0598826\n",
      "   0.0598826   0.0598826   0.0598826   0.0598826 ]]\n"
     ]
    },
    {
     "data": {
      "text/html": [
       "<div>\n",
       "<style scoped>\n",
       "    .dataframe tbody tr th:only-of-type {\n",
       "        vertical-align: middle;\n",
       "    }\n",
       "\n",
       "    .dataframe tbody tr th {\n",
       "        vertical-align: top;\n",
       "    }\n",
       "\n",
       "    .dataframe thead th {\n",
       "        text-align: right;\n",
       "    }\n",
       "</style>\n",
       "<table border=\"1\" class=\"dataframe\">\n",
       "  <thead>\n",
       "    <tr style=\"text-align: right;\">\n",
       "      <th></th>\n",
       "      <th>Example</th>\n",
       "      <th>trope_id</th>\n",
       "      <th>example_type</th>\n",
       "      <th>s1</th>\n",
       "    </tr>\n",
       "  </thead>\n",
       "  <tbody>\n",
       "    <tr>\n",
       "      <th>0</th>\n",
       "      <td>In A Bad Day For Voodoo,  Esmeralda, the maker...</td>\n",
       "      <td>t22727</td>\n",
       "      <td>lit</td>\n",
       "      <td>0.121074</td>\n",
       "    </tr>\n",
       "    <tr>\n",
       "      <th>1</th>\n",
       "      <td>When Tyler tries to   chase after his stolen c...</td>\n",
       "      <td>t01294</td>\n",
       "      <td>lit</td>\n",
       "      <td>0.170932</td>\n",
       "    </tr>\n",
       "    <tr>\n",
       "      <th>2</th>\n",
       "      <td>Esmeralda, the maker of the voodoo dolls, expl...</td>\n",
       "      <td>t22727</td>\n",
       "      <td>lit</td>\n",
       "      <td>0.117534</td>\n",
       "    </tr>\n",
       "    <tr>\n",
       "      <th>3</th>\n",
       "      <td>Tyler is the protagonist, and always tries to ...</td>\n",
       "      <td>t01080</td>\n",
       "      <td>lit</td>\n",
       "      <td>0.152988</td>\n",
       "    </tr>\n",
       "    <tr>\n",
       "      <th>4</th>\n",
       "      <td>Esmeralda the doll-maker tells  Tyler  and  Ke...</td>\n",
       "      <td>t25818</td>\n",
       "      <td>lit</td>\n",
       "      <td>0.092300</td>\n",
       "    </tr>\n",
       "    <tr>\n",
       "      <th>5</th>\n",
       "      <td>Defied. Tyler assures the reader that he is te...</td>\n",
       "      <td>t24933</td>\n",
       "      <td>lit</td>\n",
       "      <td>0.141859</td>\n",
       "    </tr>\n",
       "    <tr>\n",
       "      <th>6</th>\n",
       "      <td>After Adam gets a voodoo doll made of Tyler to...</td>\n",
       "      <td>t08393</td>\n",
       "      <td>lit</td>\n",
       "      <td>0.170812</td>\n",
       "    </tr>\n",
       "    <tr>\n",
       "      <th>7</th>\n",
       "      <td>Implied. As pagan gods are in truth, the disem...</td>\n",
       "      <td>t00608</td>\n",
       "      <td>lit</td>\n",
       "      <td>-0.029918</td>\n",
       "    </tr>\n",
       "    <tr>\n",
       "      <th>8</th>\n",
       "      <td>Casper was so nicknamed after the ghost. He's ...</td>\n",
       "      <td>t13853</td>\n",
       "      <td>lit</td>\n",
       "      <td>0.017042</td>\n",
       "    </tr>\n",
       "    <tr>\n",
       "      <th>9</th>\n",
       "      <td>Simon Darcourt is named after a character in C...</td>\n",
       "      <td>t20214</td>\n",
       "      <td>lit</td>\n",
       "      <td>0.059883</td>\n",
       "    </tr>\n",
       "  </tbody>\n",
       "</table>\n",
       "</div>"
      ],
      "text/plain": [
       "                                             Example trope_id example_type  \\\n",
       "0  In A Bad Day For Voodoo,  Esmeralda, the maker...   t22727          lit   \n",
       "1  When Tyler tries to   chase after his stolen c...   t01294          lit   \n",
       "2  Esmeralda, the maker of the voodoo dolls, expl...   t22727          lit   \n",
       "3  Tyler is the protagonist, and always tries to ...   t01080          lit   \n",
       "4  Esmeralda the doll-maker tells  Tyler  and  Ke...   t25818          lit   \n",
       "5  Defied. Tyler assures the reader that he is te...   t24933          lit   \n",
       "6  After Adam gets a voodoo doll made of Tyler to...   t08393          lit   \n",
       "7  Implied. As pagan gods are in truth, the disem...   t00608          lit   \n",
       "8  Casper was so nicknamed after the ghost. He's ...   t13853          lit   \n",
       "9  Simon Darcourt is named after a character in C...   t20214          lit   \n",
       "\n",
       "         s1  \n",
       "0  0.121074  \n",
       "1  0.170932  \n",
       "2  0.117534  \n",
       "3  0.152988  \n",
       "4  0.092300  \n",
       "5  0.141859  \n",
       "6  0.170812  \n",
       "7 -0.029918  \n",
       "8  0.017042  \n",
       "9  0.059883  "
      ]
     },
     "execution_count": 43,
     "metadata": {},
     "output_type": "execute_result"
    }
   ],
   "source": [
    "story_embed = np.tile(story_embed, (final_embeddings.shape[0],1))\n",
    "print(story_embed.shape)\n",
    "# story_embed = story_embed.reshape((2,1))\n",
    "# call scipy cdist\n",
    "similarity = 1 - scipy.spatial.distance.cdist(matrix, story_embed, 'cosine')\n",
    "print(similarity.shape)\n",
    "print(similarity)\n",
    "# get one row\n",
    "# add it to df\n",
    "trope_examples_df[story.sid] = similarity[:,0]\n",
    "trope_examples_df"
   ]
  },
  {
   "cell_type": "code",
   "execution_count": 44,
   "id": "c2843d61-17a5-4b2a-8f32-52e8095af276",
   "metadata": {},
   "outputs": [
    {
     "data": {
      "text/html": [
       "<div>\n",
       "<style scoped>\n",
       "    .dataframe tbody tr th:only-of-type {\n",
       "        vertical-align: middle;\n",
       "    }\n",
       "\n",
       "    .dataframe tbody tr th {\n",
       "        vertical-align: top;\n",
       "    }\n",
       "\n",
       "    .dataframe thead th {\n",
       "        text-align: right;\n",
       "    }\n",
       "</style>\n",
       "<table border=\"1\" class=\"dataframe\">\n",
       "  <thead>\n",
       "    <tr style=\"text-align: right;\">\n",
       "      <th></th>\n",
       "      <th>Example</th>\n",
       "      <th>trope_id</th>\n",
       "      <th>example_type</th>\n",
       "      <th>s1</th>\n",
       "      <th>tfsim</th>\n",
       "    </tr>\n",
       "  </thead>\n",
       "  <tbody>\n",
       "    <tr>\n",
       "      <th>0</th>\n",
       "      <td>In A Bad Day For Voodoo,  Esmeralda, the maker...</td>\n",
       "      <td>t22727</td>\n",
       "      <td>lit</td>\n",
       "      <td>0.121074</td>\n",
       "      <td>0.121074</td>\n",
       "    </tr>\n",
       "    <tr>\n",
       "      <th>1</th>\n",
       "      <td>When Tyler tries to   chase after his stolen c...</td>\n",
       "      <td>t01294</td>\n",
       "      <td>lit</td>\n",
       "      <td>0.170932</td>\n",
       "      <td>0.170932</td>\n",
       "    </tr>\n",
       "    <tr>\n",
       "      <th>2</th>\n",
       "      <td>Esmeralda, the maker of the voodoo dolls, expl...</td>\n",
       "      <td>t22727</td>\n",
       "      <td>lit</td>\n",
       "      <td>0.117534</td>\n",
       "      <td>0.117534</td>\n",
       "    </tr>\n",
       "    <tr>\n",
       "      <th>3</th>\n",
       "      <td>Tyler is the protagonist, and always tries to ...</td>\n",
       "      <td>t01080</td>\n",
       "      <td>lit</td>\n",
       "      <td>0.152988</td>\n",
       "      <td>0.152988</td>\n",
       "    </tr>\n",
       "    <tr>\n",
       "      <th>4</th>\n",
       "      <td>Esmeralda the doll-maker tells  Tyler  and  Ke...</td>\n",
       "      <td>t25818</td>\n",
       "      <td>lit</td>\n",
       "      <td>0.092300</td>\n",
       "      <td>0.092300</td>\n",
       "    </tr>\n",
       "    <tr>\n",
       "      <th>5</th>\n",
       "      <td>Defied. Tyler assures the reader that he is te...</td>\n",
       "      <td>t24933</td>\n",
       "      <td>lit</td>\n",
       "      <td>0.141859</td>\n",
       "      <td>0.141859</td>\n",
       "    </tr>\n",
       "    <tr>\n",
       "      <th>6</th>\n",
       "      <td>After Adam gets a voodoo doll made of Tyler to...</td>\n",
       "      <td>t08393</td>\n",
       "      <td>lit</td>\n",
       "      <td>0.170812</td>\n",
       "      <td>0.170812</td>\n",
       "    </tr>\n",
       "    <tr>\n",
       "      <th>7</th>\n",
       "      <td>Implied. As pagan gods are in truth, the disem...</td>\n",
       "      <td>t00608</td>\n",
       "      <td>lit</td>\n",
       "      <td>-0.029918</td>\n",
       "      <td>-0.029918</td>\n",
       "    </tr>\n",
       "    <tr>\n",
       "      <th>8</th>\n",
       "      <td>Casper was so nicknamed after the ghost. He's ...</td>\n",
       "      <td>t13853</td>\n",
       "      <td>lit</td>\n",
       "      <td>0.017042</td>\n",
       "      <td>0.017042</td>\n",
       "    </tr>\n",
       "    <tr>\n",
       "      <th>9</th>\n",
       "      <td>Simon Darcourt is named after a character in C...</td>\n",
       "      <td>t20214</td>\n",
       "      <td>lit</td>\n",
       "      <td>0.059883</td>\n",
       "      <td>0.059883</td>\n",
       "    </tr>\n",
       "  </tbody>\n",
       "</table>\n",
       "</div>"
      ],
      "text/plain": [
       "                                             Example trope_id example_type  \\\n",
       "0  In A Bad Day For Voodoo,  Esmeralda, the maker...   t22727          lit   \n",
       "1  When Tyler tries to   chase after his stolen c...   t01294          lit   \n",
       "2  Esmeralda, the maker of the voodoo dolls, expl...   t22727          lit   \n",
       "3  Tyler is the protagonist, and always tries to ...   t01080          lit   \n",
       "4  Esmeralda the doll-maker tells  Tyler  and  Ke...   t25818          lit   \n",
       "5  Defied. Tyler assures the reader that he is te...   t24933          lit   \n",
       "6  After Adam gets a voodoo doll made of Tyler to...   t08393          lit   \n",
       "7  Implied. As pagan gods are in truth, the disem...   t00608          lit   \n",
       "8  Casper was so nicknamed after the ghost. He's ...   t13853          lit   \n",
       "9  Simon Darcourt is named after a character in C...   t20214          lit   \n",
       "\n",
       "         s1     tfsim  \n",
       "0  0.121074  0.121074  \n",
       "1  0.170932  0.170932  \n",
       "2  0.117534  0.117534  \n",
       "3  0.152988  0.152988  \n",
       "4  0.092300  0.092300  \n",
       "5  0.141859  0.141859  \n",
       "6  0.170812  0.170812  \n",
       "7 -0.029918 -0.029918  \n",
       "8  0.017042  0.017042  \n",
       "9  0.059883  0.059883  "
      ]
     },
     "execution_count": 44,
     "metadata": {},
     "output_type": "execute_result"
    }
   ],
   "source": [
    "cosine_similarities = tf.reduce_sum(tf.multiply(final_embeddings, story_embed), axis=1)\n",
    "cosine_similarities\n",
    "trope_examples_df['tfsim'] = cosine_similarities\n",
    "trope_examples_df"
   ]
  },
  {
   "cell_type": "code",
   "execution_count": 32,
   "id": "ed4a5a63-fb07-4dd5-af89-f5e7bafb4206",
   "metadata": {},
   "outputs": [
    {
     "data": {
      "text/plain": [
       "(10, 1000)"
      ]
     },
     "execution_count": 32,
     "metadata": {},
     "output_type": "execute_result"
    }
   ],
   "source": [
    "similarity.shape"
   ]
  },
  {
   "cell_type": "code",
   "execution_count": 124,
   "id": "071eee81-8063-411d-828f-72dafa05a3cf",
   "metadata": {},
   "outputs": [],
   "source": [
    "story_embed = np.tile(story_embed, (matrix.shape[0],1))\n",
    "# story_embed = story_embed.reshape((2,1))\n",
    "# call scipy cdist\n",
    "similarity = 1 - scipy.spatial.distance.cdist(matrix, story_embed, 'cosine')\n",
    "# get one row\n",
    "# add it to df\n",
    "trope_examples[story.sid] = similarity[:,0]"
   ]
  },
  {
   "cell_type": "code",
   "execution_count": 125,
   "id": "9c23d454-f1b7-4002-882c-79ce464f2510",
   "metadata": {},
   "outputs": [
    {
     "data": {
      "text/plain": [
       "array([[0.12107358, 0.12107358, 0.12107358, 0.12107358],\n",
       "       [0.17093189, 0.17093189, 0.17093189, 0.17093189]])"
      ]
     },
     "execution_count": 125,
     "metadata": {},
     "output_type": "execute_result"
    }
   ],
   "source": [
    "similarity"
   ]
  },
  {
   "cell_type": "code",
   "execution_count": 126,
   "id": "8566273d-e649-492f-a756-338ce5d4b9a6",
   "metadata": {},
   "outputs": [
    {
     "data": {
      "text/html": [
       "<div>\n",
       "<style scoped>\n",
       "    .dataframe tbody tr th:only-of-type {\n",
       "        vertical-align: middle;\n",
       "    }\n",
       "\n",
       "    .dataframe tbody tr th {\n",
       "        vertical-align: top;\n",
       "    }\n",
       "\n",
       "    .dataframe thead th {\n",
       "        text-align: right;\n",
       "    }\n",
       "</style>\n",
       "<table border=\"1\" class=\"dataframe\">\n",
       "  <thead>\n",
       "    <tr style=\"text-align: right;\">\n",
       "      <th></th>\n",
       "      <th>Example</th>\n",
       "      <th>trope_id</th>\n",
       "      <th>example_type</th>\n",
       "      <th>s1</th>\n",
       "    </tr>\n",
       "  </thead>\n",
       "  <tbody>\n",
       "    <tr>\n",
       "      <th>0</th>\n",
       "      <td>In A Bad Day For Voodoo,  Esmeralda, the maker...</td>\n",
       "      <td>t22727</td>\n",
       "      <td>lit</td>\n",
       "      <td>0.121074</td>\n",
       "    </tr>\n",
       "    <tr>\n",
       "      <th>1</th>\n",
       "      <td>When Tyler tries to   chase after his stolen c...</td>\n",
       "      <td>t01294</td>\n",
       "      <td>lit</td>\n",
       "      <td>0.170932</td>\n",
       "    </tr>\n",
       "  </tbody>\n",
       "</table>\n",
       "</div>"
      ],
      "text/plain": [
       "                                             Example trope_id example_type  \\\n",
       "0  In A Bad Day For Voodoo,  Esmeralda, the maker...   t22727          lit   \n",
       "1  When Tyler tries to   chase after his stolen c...   t01294          lit   \n",
       "\n",
       "         s1  \n",
       "0  0.121074  \n",
       "1  0.170932  "
      ]
     },
     "execution_count": 126,
     "metadata": {},
     "output_type": "execute_result"
    }
   ],
   "source": [
    "trope_examples"
   ]
  },
  {
   "cell_type": "code",
   "execution_count": 123,
   "id": "b8511f61-5440-4d14-8247-47c330aefa06",
   "metadata": {},
   "outputs": [
    {
     "name": "stdout",
     "output_type": "stream",
     "text": [
      "(2, 512)\n",
      "(2, 512)\n"
     ]
    }
   ],
   "source": [
    "print(matrix.shape)\n",
    "print(story_embed.shape)"
   ]
  },
  {
   "cell_type": "code",
   "execution_count": 120,
   "id": "f564218f-28ee-4e90-af91-8adc48020ce7",
   "metadata": {},
   "outputs": [],
   "source": [
    "# story_embed.reshape((512,1))"
   ]
  },
  {
   "cell_type": "code",
   "execution_count": 127,
   "id": "55be4b0c-8739-4e69-984e-c12f8037a26e",
   "metadata": {},
   "outputs": [],
   "source": [
    "story_embed = np.tile(story_embed, (matrix.shape[0],1))"
   ]
  },
  {
   "cell_type": "code",
   "execution_count": 132,
   "id": "abc3dc0b-65a9-4892-b385-2cce2191cdae",
   "metadata": {},
   "outputs": [
    {
     "name": "stdout",
     "output_type": "stream",
     "text": [
      "(1, 512)\n"
     ]
    }
   ],
   "source": [
    "print(story_embed.shape)"
   ]
  },
  {
   "cell_type": "code",
   "execution_count": 99,
   "id": "e63ec2a9-9ca6-4e40-ac05-dca0bb7beadc",
   "metadata": {},
   "outputs": [],
   "source": [
    "similarity = 1 - scipy.spatial.distance.cdist(matrix, story_embed, 'cosine')"
   ]
  },
  {
   "cell_type": "code",
   "execution_count": 100,
   "id": "bc1edbc2-86f6-4200-bb0a-85cd9b37ca89",
   "metadata": {},
   "outputs": [
    {
     "data": {
      "text/plain": [
       "array([[0.12107358, 0.12107358],\n",
       "       [0.17093189, 0.17093189]])"
      ]
     },
     "execution_count": 100,
     "metadata": {},
     "output_type": "execute_result"
    }
   ],
   "source": [
    "similarity"
   ]
  },
  {
   "cell_type": "code",
   "execution_count": 133,
   "id": "79b1efa1-adb9-49eb-aaab-c5355c55d17b",
   "metadata": {},
   "outputs": [
    {
     "data": {
      "text/plain": [
       "<tf.Tensor: shape=(2,), dtype=float32, numpy=array([0.12107359, 0.1709319 ], dtype=float32)>"
      ]
     },
     "execution_count": 133,
     "metadata": {},
     "output_type": "execute_result"
    }
   ],
   "source": [
    "cosine_similarities = tf.reduce_sum(tf.multiply(matrix, story_embed), axis=1)\n",
    "cosine_similarities"
   ]
  },
  {
   "cell_type": "code",
   "execution_count": 134,
   "id": "f20c8214-6c3f-461b-a163-9f113dc2d6a6",
   "metadata": {},
   "outputs": [],
   "source": [
    "trope_examples['tfsim'] = cosine_similarities"
   ]
  },
  {
   "cell_type": "code",
   "execution_count": 135,
   "id": "3403c343-bb41-4554-accb-4ed32a50109e",
   "metadata": {},
   "outputs": [
    {
     "data": {
      "text/html": [
       "<div>\n",
       "<style scoped>\n",
       "    .dataframe tbody tr th:only-of-type {\n",
       "        vertical-align: middle;\n",
       "    }\n",
       "\n",
       "    .dataframe tbody tr th {\n",
       "        vertical-align: top;\n",
       "    }\n",
       "\n",
       "    .dataframe thead th {\n",
       "        text-align: right;\n",
       "    }\n",
       "</style>\n",
       "<table border=\"1\" class=\"dataframe\">\n",
       "  <thead>\n",
       "    <tr style=\"text-align: right;\">\n",
       "      <th></th>\n",
       "      <th>Example</th>\n",
       "      <th>trope_id</th>\n",
       "      <th>example_type</th>\n",
       "      <th>s1</th>\n",
       "      <th>tfsim</th>\n",
       "    </tr>\n",
       "  </thead>\n",
       "  <tbody>\n",
       "    <tr>\n",
       "      <th>0</th>\n",
       "      <td>In A Bad Day For Voodoo,  Esmeralda, the maker...</td>\n",
       "      <td>t22727</td>\n",
       "      <td>lit</td>\n",
       "      <td>0.121074</td>\n",
       "      <td>0.121074</td>\n",
       "    </tr>\n",
       "    <tr>\n",
       "      <th>1</th>\n",
       "      <td>When Tyler tries to   chase after his stolen c...</td>\n",
       "      <td>t01294</td>\n",
       "      <td>lit</td>\n",
       "      <td>0.170932</td>\n",
       "      <td>0.170932</td>\n",
       "    </tr>\n",
       "  </tbody>\n",
       "</table>\n",
       "</div>"
      ],
      "text/plain": [
       "                                             Example trope_id example_type  \\\n",
       "0  In A Bad Day For Voodoo,  Esmeralda, the maker...   t22727          lit   \n",
       "1  When Tyler tries to   chase after his stolen c...   t01294          lit   \n",
       "\n",
       "         s1     tfsim  \n",
       "0  0.121074  0.121074  \n",
       "1  0.170932  0.170932  "
      ]
     },
     "execution_count": 135,
     "metadata": {},
     "output_type": "execute_result"
    }
   ],
   "source": [
    "trope_examples"
   ]
  },
  {
   "cell_type": "code",
   "execution_count": null,
   "id": "94d9a13f-a665-481f-9138-14cb4e3135f8",
   "metadata": {},
   "outputs": [],
   "source": []
  }
 ],
 "metadata": {
  "kernelspec": {
   "display_name": "Python 3 (ipykernel)",
   "language": "python",
   "name": "python3"
  },
  "language_info": {
   "codemirror_mode": {
    "name": "ipython",
    "version": 3
   },
   "file_extension": ".py",
   "mimetype": "text/x-python",
   "name": "python",
   "nbconvert_exporter": "python",
   "pygments_lexer": "ipython3",
   "version": "3.9.13"
  }
 },
 "nbformat": 4,
 "nbformat_minor": 5
}
